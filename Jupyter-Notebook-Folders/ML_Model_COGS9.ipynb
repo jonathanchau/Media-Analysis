{
  "cells": [
    {
      "cell_type": "markdown",
      "metadata": {
        "id": "view-in-github",
        "colab_type": "text"
      },
      "source": [
        "<a href=\"https://colab.research.google.com/github/jonathanchau/Media-Analysis/blob/main/ML_Model_COGS9.ipynb\" target=\"_parent\"><img src=\"https://colab.research.google.com/assets/colab-badge.svg\" alt=\"Open In Colab\"/></a>"
      ]
    },
    {
      "cell_type": "markdown",
      "source": [
        "# Importing Libraries"
      ],
      "metadata": {
        "id": "p9-Tg581rEIQ"
      }
    },
    {
      "cell_type": "code",
      "execution_count": null,
      "metadata": {
        "id": "ldFMJiGb19se",
        "colab": {
          "base_uri": "https://localhost:8080/"
        },
        "outputId": "a34aabb3-4e10-4a0f-998b-c047f1683349"
      },
      "outputs": [
        {
          "output_type": "stream",
          "name": "stdout",
          "text": [
            "Collecting swifter\n",
            "  Downloading swifter-1.4.0.tar.gz (1.2 MB)\n",
            "\u001b[2K     \u001b[90m━━━━━━━━━━━━━━━━━━━━━━━━━━━━━━━━━━━━━━━━\u001b[0m \u001b[32m1.2/1.2 MB\u001b[0m \u001b[31m12.9 MB/s\u001b[0m eta \u001b[36m0:00:00\u001b[0m\n",
            "\u001b[?25h  Preparing metadata (setup.py) ... \u001b[?25l\u001b[?25hdone\n",
            "Requirement already satisfied: pandas>=1.0.0 in /usr/local/lib/python3.11/dist-packages (from swifter) (2.2.2)\n",
            "Requirement already satisfied: psutil>=5.6.6 in /usr/local/lib/python3.11/dist-packages (from swifter) (5.9.5)\n",
            "Requirement already satisfied: dask>=2.10.0 in /usr/local/lib/python3.11/dist-packages (from dask[dataframe]>=2.10.0->swifter) (2024.10.0)\n",
            "Requirement already satisfied: tqdm>=4.33.0 in /usr/local/lib/python3.11/dist-packages (from swifter) (4.67.1)\n",
            "Requirement already satisfied: click>=8.1 in /usr/local/lib/python3.11/dist-packages (from dask>=2.10.0->dask[dataframe]>=2.10.0->swifter) (8.1.8)\n",
            "Requirement already satisfied: cloudpickle>=3.0.0 in /usr/local/lib/python3.11/dist-packages (from dask>=2.10.0->dask[dataframe]>=2.10.0->swifter) (3.1.1)\n",
            "Requirement already satisfied: fsspec>=2021.09.0 in /usr/local/lib/python3.11/dist-packages (from dask>=2.10.0->dask[dataframe]>=2.10.0->swifter) (2024.10.0)\n",
            "Requirement already satisfied: packaging>=20.0 in /usr/local/lib/python3.11/dist-packages (from dask>=2.10.0->dask[dataframe]>=2.10.0->swifter) (24.2)\n",
            "Requirement already satisfied: partd>=1.4.0 in /usr/local/lib/python3.11/dist-packages (from dask>=2.10.0->dask[dataframe]>=2.10.0->swifter) (1.4.2)\n",
            "Requirement already satisfied: pyyaml>=5.3.1 in /usr/local/lib/python3.11/dist-packages (from dask>=2.10.0->dask[dataframe]>=2.10.0->swifter) (6.0.2)\n",
            "Requirement already satisfied: toolz>=0.10.0 in /usr/local/lib/python3.11/dist-packages (from dask>=2.10.0->dask[dataframe]>=2.10.0->swifter) (0.12.1)\n",
            "Requirement already satisfied: importlib-metadata>=4.13.0 in /usr/local/lib/python3.11/dist-packages (from dask>=2.10.0->dask[dataframe]>=2.10.0->swifter) (8.6.1)\n",
            "Collecting dask-expr<1.2,>=1.1 (from dask[dataframe]>=2.10.0->swifter)\n",
            "  Downloading dask_expr-1.1.21-py3-none-any.whl.metadata (2.6 kB)\n",
            "Requirement already satisfied: numpy>=1.23.2 in /usr/local/lib/python3.11/dist-packages (from pandas>=1.0.0->swifter) (1.26.4)\n",
            "Requirement already satisfied: python-dateutil>=2.8.2 in /usr/local/lib/python3.11/dist-packages (from pandas>=1.0.0->swifter) (2.8.2)\n",
            "Requirement already satisfied: pytz>=2020.1 in /usr/local/lib/python3.11/dist-packages (from pandas>=1.0.0->swifter) (2024.2)\n",
            "Requirement already satisfied: tzdata>=2022.7 in /usr/local/lib/python3.11/dist-packages (from pandas>=1.0.0->swifter) (2025.1)\n",
            "INFO: pip is looking at multiple versions of dask-expr to determine which version is compatible with other requirements. This could take a while.\n",
            "  Downloading dask_expr-1.1.20-py3-none-any.whl.metadata (2.6 kB)\n",
            "  Downloading dask_expr-1.1.19-py3-none-any.whl.metadata (2.6 kB)\n",
            "  Downloading dask_expr-1.1.18-py3-none-any.whl.metadata (2.6 kB)\n",
            "  Downloading dask_expr-1.1.16-py3-none-any.whl.metadata (2.5 kB)\n",
            "Requirement already satisfied: pyarrow>=14.0.1 in /usr/local/lib/python3.11/dist-packages (from dask-expr<1.2,>=1.1->dask[dataframe]>=2.10.0->swifter) (17.0.0)\n",
            "Requirement already satisfied: zipp>=3.20 in /usr/local/lib/python3.11/dist-packages (from importlib-metadata>=4.13.0->dask>=2.10.0->dask[dataframe]>=2.10.0->swifter) (3.21.0)\n",
            "Requirement already satisfied: locket in /usr/local/lib/python3.11/dist-packages (from partd>=1.4.0->dask>=2.10.0->dask[dataframe]>=2.10.0->swifter) (1.0.0)\n",
            "Requirement already satisfied: six>=1.5 in /usr/local/lib/python3.11/dist-packages (from python-dateutil>=2.8.2->pandas>=1.0.0->swifter) (1.17.0)\n",
            "Downloading dask_expr-1.1.16-py3-none-any.whl (243 kB)\n",
            "\u001b[2K   \u001b[90m━━━━━━━━━━━━━━━━━━━━━━━━━━━━━━━━━━━━━━━━\u001b[0m \u001b[32m243.2/243.2 kB\u001b[0m \u001b[31m8.6 MB/s\u001b[0m eta \u001b[36m0:00:00\u001b[0m\n",
            "\u001b[?25hBuilding wheels for collected packages: swifter\n",
            "  Building wheel for swifter (setup.py) ... \u001b[?25l\u001b[?25hdone\n",
            "  Created wheel for swifter: filename=swifter-1.4.0-py3-none-any.whl size=16507 sha256=d1824dbae30b5657f84194ff6d7a27149dab1da62b7216bdcc3b18c6f3444a57\n",
            "  Stored in directory: /root/.cache/pip/wheels/ef/7f/bd/9bed48f078f3ee1fa75e0b29b6e0335ce1cb03a38d3443b3a3\n",
            "Successfully built swifter\n",
            "Installing collected packages: dask-expr, swifter\n",
            "Successfully installed dask-expr-1.1.16 swifter-1.4.0\n",
            "Collecting fasttext\n",
            "  Downloading fasttext-0.9.3.tar.gz (73 kB)\n",
            "\u001b[2K     \u001b[90m━━━━━━━━━━━━━━━━━━━━━━━━━━━━━━━━━━━━━━━━\u001b[0m \u001b[32m73.4/73.4 kB\u001b[0m \u001b[31m2.7 MB/s\u001b[0m eta \u001b[36m0:00:00\u001b[0m\n",
            "\u001b[?25h  Installing build dependencies ... \u001b[?25l\u001b[?25hdone\n",
            "  Getting requirements to build wheel ... \u001b[?25l\u001b[?25hdone\n",
            "  Preparing metadata (pyproject.toml) ... \u001b[?25l\u001b[?25hdone\n",
            "Collecting pybind11>=2.2 (from fasttext)\n",
            "  Using cached pybind11-2.13.6-py3-none-any.whl.metadata (9.5 kB)\n",
            "Requirement already satisfied: setuptools>=0.7.0 in /usr/local/lib/python3.11/dist-packages (from fasttext) (75.1.0)\n",
            "Requirement already satisfied: numpy in /usr/local/lib/python3.11/dist-packages (from fasttext) (1.26.4)\n",
            "Using cached pybind11-2.13.6-py3-none-any.whl (243 kB)\n",
            "Building wheels for collected packages: fasttext\n",
            "  Building wheel for fasttext (pyproject.toml) ... \u001b[?25l\u001b[?25hdone\n",
            "  Created wheel for fasttext: filename=fasttext-0.9.3-cp311-cp311-linux_x86_64.whl size=4313476 sha256=84f3ec3c2473a6685b1e155b69563255074d0c3b8eecb1e9f513ae83f74c443a\n",
            "  Stored in directory: /root/.cache/pip/wheels/65/4f/35/5057db0249224e9ab55a513fa6b79451473ceb7713017823c3\n",
            "Successfully built fasttext\n",
            "Installing collected packages: pybind11, fasttext\n",
            "Successfully installed fasttext-0.9.3 pybind11-2.13.6\n"
          ]
        }
      ],
      "source": [
        "%matplotlib inline\n",
        "import numpy as np\n",
        "import scipy as sp\n",
        "import scipy.stats as stats\n",
        "import pandas as pd\n",
        "import matplotlib.pyplot as plt\n",
        "import seaborn as sns; sns.set()\n",
        "from collections import Counter\n",
        "from textblob import TextBlob\n",
        "from textblob.classifiers import NaiveBayesClassifier\n",
        "from textblob.classifiers import DecisionTreeClassifier\n",
        "import scipy.stats\n",
        "import sklearn.linear_model\n",
        "import sklearn.discriminant_analysis\n",
        "import sklearn.preprocessing\n",
        "import sklearn.model_selection\n",
        "import sklearn.neighbors\n",
        "from sklearn.naive_bayes import MultinomialNB\n",
        "from sklearn.linear_model import SGDClassifier\n",
        "from sklearn.model_selection import train_test_split\n",
        "from sklearn.feature_extraction.text import CountVectorizer\n",
        "from sklearn.feature_extraction.text import TfidfTransformer\n",
        "import sklearn.linear_model as lm\n",
        "from sklearn import metrics\n",
        "from sklearn.pipeline import Pipeline\n",
        "import nltk\n",
        "from nltk.corpus import stopwords\n",
        "from nltk.classify import SklearnClassifier\n",
        "from wordcloud import WordCloud,STOPWORDS\n",
        "import matplotlib.pyplot as plt\n",
        "!pip install swifter\n",
        "!pip install fasttext"
      ]
    },
    {
      "cell_type": "code",
      "source": [
        "# Hide annoying pandas warning\n",
        "import warnings\n",
        "warnings.simplefilter(action='ignore', category=pd.errors.SettingWithCopyWarning)"
      ],
      "metadata": {
        "id": "4noI2MNv-TgX"
      },
      "execution_count": null,
      "outputs": []
    },
    {
      "cell_type": "markdown",
      "source": [
        "# Importing Data"
      ],
      "metadata": {
        "id": "uAgaj6Naq0MZ"
      }
    },
    {
      "cell_type": "code",
      "execution_count": null,
      "metadata": {
        "colab": {
          "base_uri": "https://localhost:8080/"
        },
        "id": "GixAC_0A1PSR",
        "outputId": "9815e16c-a54c-43f6-d2a2-1c1f1b7cca6e"
      },
      "outputs": [
        {
          "output_type": "stream",
          "name": "stdout",
          "text": [
            "Downloading from https://www.kaggle.com/api/v1/datasets/download/crowdflower/political-social-media-posts?dataset_version_number=1...\n"
          ]
        },
        {
          "output_type": "stream",
          "name": "stderr",
          "text": [
            "100%|██████████| 800k/800k [00:00<00:00, 60.3MB/s]"
          ]
        },
        {
          "output_type": "stream",
          "name": "stdout",
          "text": [
            "Extracting files...\n",
            "Path to dataset files: /root/.cache/kagglehub/datasets/crowdflower/political-social-media-posts/versions/1\n"
          ]
        },
        {
          "output_type": "stream",
          "name": "stderr",
          "text": [
            "\n"
          ]
        }
      ],
      "source": [
        "import kagglehub\n",
        "\n",
        "# Download latest version\n",
        "path = kagglehub.dataset_download(\"crowdflower/political-social-media-posts\")\n",
        "\n",
        "print(\"Path to dataset files:\", path)"
      ]
    },
    {
      "cell_type": "code",
      "execution_count": null,
      "metadata": {
        "colab": {
          "base_uri": "https://localhost:8080/"
        },
        "id": "V04SdSJ04OcM",
        "outputId": "f2fce359-fe00-4fa0-b329-4de2421fc113"
      },
      "outputs": [
        {
          "metadata": {
            "tags": null
          },
          "name": "stdout",
          "output_type": "stream",
          "text": [
            "Requirement already satisfied: kaggle in /usr/local/lib/python3.11/dist-packages (1.6.17)\n",
            "Requirement already satisfied: six>=1.10 in /usr/local/lib/python3.11/dist-packages (from kaggle) (1.17.0)\n",
            "Requirement already satisfied: certifi>=2023.7.22 in /usr/local/lib/python3.11/dist-packages (from kaggle) (2024.12.14)\n",
            "Requirement already satisfied: python-dateutil in /usr/local/lib/python3.11/dist-packages (from kaggle) (2.8.2)\n",
            "Requirement already satisfied: requests in /usr/local/lib/python3.11/dist-packages (from kaggle) (2.32.3)\n",
            "Requirement already satisfied: tqdm in /usr/local/lib/python3.11/dist-packages (from kaggle) (4.67.1)\n",
            "Requirement already satisfied: python-slugify in /usr/local/lib/python3.11/dist-packages (from kaggle) (8.0.4)\n",
            "Requirement already satisfied: urllib3 in /usr/local/lib/python3.11/dist-packages (from kaggle) (2.3.0)\n",
            "Requirement already satisfied: bleach in /usr/local/lib/python3.11/dist-packages (from kaggle) (6.2.0)\n",
            "Requirement already satisfied: webencodings in /usr/local/lib/python3.11/dist-packages (from bleach->kaggle) (0.5.1)\n",
            "Requirement already satisfied: text-unidecode>=1.3 in /usr/local/lib/python3.11/dist-packages (from python-slugify->kaggle) (1.3)\n",
            "Requirement already satisfied: charset-normalizer<4,>=2 in /usr/local/lib/python3.11/dist-packages (from requests->kaggle) (3.4.1)\n",
            "Requirement already satisfied: idna<4,>=2.5 in /usr/local/lib/python3.11/dist-packages (from requests->kaggle) (3.10)\n"
          ]
        },
        {
          "data": {
            "text/html": [
              "\n",
              "     <input type=\"file\" id=\"files-cd6d68a4-3c3c-4f21-bc85-2f083394dd9f\" name=\"files[]\" multiple disabled\n",
              "        style=\"border:none\" />\n",
              "     <output id=\"result-cd6d68a4-3c3c-4f21-bc85-2f083394dd9f\">\n",
              "      Upload widget is only available when the cell has been executed in the\n",
              "      current browser session. Please rerun this cell to enable.\n",
              "      </output>\n",
              "      <script>// Copyright 2017 Google LLC\n",
              "//\n",
              "// Licensed under the Apache License, Version 2.0 (the \"License\");\n",
              "// you may not use this file except in compliance with the License.\n",
              "// You may obtain a copy of the License at\n",
              "//\n",
              "//      http://www.apache.org/licenses/LICENSE-2.0\n",
              "//\n",
              "// Unless required by applicable law or agreed to in writing, software\n",
              "// distributed under the License is distributed on an \"AS IS\" BASIS,\n",
              "// WITHOUT WARRANTIES OR CONDITIONS OF ANY KIND, either express or implied.\n",
              "// See the License for the specific language governing permissions and\n",
              "// limitations under the License.\n",
              "\n",
              "/**\n",
              " * @fileoverview Helpers for google.colab Python module.\n",
              " */\n",
              "(function(scope) {\n",
              "function span(text, styleAttributes = {}) {\n",
              "  const element = document.createElement('span');\n",
              "  element.textContent = text;\n",
              "  for (const key of Object.keys(styleAttributes)) {\n",
              "    element.style[key] = styleAttributes[key];\n",
              "  }\n",
              "  return element;\n",
              "}\n",
              "\n",
              "// Max number of bytes which will be uploaded at a time.\n",
              "const MAX_PAYLOAD_SIZE = 100 * 1024;\n",
              "\n",
              "function _uploadFiles(inputId, outputId) {\n",
              "  const steps = uploadFilesStep(inputId, outputId);\n",
              "  const outputElement = document.getElementById(outputId);\n",
              "  // Cache steps on the outputElement to make it available for the next call\n",
              "  // to uploadFilesContinue from Python.\n",
              "  outputElement.steps = steps;\n",
              "\n",
              "  return _uploadFilesContinue(outputId);\n",
              "}\n",
              "\n",
              "// This is roughly an async generator (not supported in the browser yet),\n",
              "// where there are multiple asynchronous steps and the Python side is going\n",
              "// to poll for completion of each step.\n",
              "// This uses a Promise to block the python side on completion of each step,\n",
              "// then passes the result of the previous step as the input to the next step.\n",
              "function _uploadFilesContinue(outputId) {\n",
              "  const outputElement = document.getElementById(outputId);\n",
              "  const steps = outputElement.steps;\n",
              "\n",
              "  const next = steps.next(outputElement.lastPromiseValue);\n",
              "  return Promise.resolve(next.value.promise).then((value) => {\n",
              "    // Cache the last promise value to make it available to the next\n",
              "    // step of the generator.\n",
              "    outputElement.lastPromiseValue = value;\n",
              "    return next.value.response;\n",
              "  });\n",
              "}\n",
              "\n",
              "/**\n",
              " * Generator function which is called between each async step of the upload\n",
              " * process.\n",
              " * @param {string} inputId Element ID of the input file picker element.\n",
              " * @param {string} outputId Element ID of the output display.\n",
              " * @return {!Iterable<!Object>} Iterable of next steps.\n",
              " */\n",
              "function* uploadFilesStep(inputId, outputId) {\n",
              "  const inputElement = document.getElementById(inputId);\n",
              "  inputElement.disabled = false;\n",
              "\n",
              "  const outputElement = document.getElementById(outputId);\n",
              "  outputElement.innerHTML = '';\n",
              "\n",
              "  const pickedPromise = new Promise((resolve) => {\n",
              "    inputElement.addEventListener('change', (e) => {\n",
              "      resolve(e.target.files);\n",
              "    });\n",
              "  });\n",
              "\n",
              "  const cancel = document.createElement('button');\n",
              "  inputElement.parentElement.appendChild(cancel);\n",
              "  cancel.textContent = 'Cancel upload';\n",
              "  const cancelPromise = new Promise((resolve) => {\n",
              "    cancel.onclick = () => {\n",
              "      resolve(null);\n",
              "    };\n",
              "  });\n",
              "\n",
              "  // Wait for the user to pick the files.\n",
              "  const files = yield {\n",
              "    promise: Promise.race([pickedPromise, cancelPromise]),\n",
              "    response: {\n",
              "      action: 'starting',\n",
              "    }\n",
              "  };\n",
              "\n",
              "  cancel.remove();\n",
              "\n",
              "  // Disable the input element since further picks are not allowed.\n",
              "  inputElement.disabled = true;\n",
              "\n",
              "  if (!files) {\n",
              "    return {\n",
              "      response: {\n",
              "        action: 'complete',\n",
              "      }\n",
              "    };\n",
              "  }\n",
              "\n",
              "  for (const file of files) {\n",
              "    const li = document.createElement('li');\n",
              "    li.append(span(file.name, {fontWeight: 'bold'}));\n",
              "    li.append(span(\n",
              "        `(${file.type || 'n/a'}) - ${file.size} bytes, ` +\n",
              "        `last modified: ${\n",
              "            file.lastModifiedDate ? file.lastModifiedDate.toLocaleDateString() :\n",
              "                                    'n/a'} - `));\n",
              "    const percent = span('0% done');\n",
              "    li.appendChild(percent);\n",
              "\n",
              "    outputElement.appendChild(li);\n",
              "\n",
              "    const fileDataPromise = new Promise((resolve) => {\n",
              "      const reader = new FileReader();\n",
              "      reader.onload = (e) => {\n",
              "        resolve(e.target.result);\n",
              "      };\n",
              "      reader.readAsArrayBuffer(file);\n",
              "    });\n",
              "    // Wait for the data to be ready.\n",
              "    let fileData = yield {\n",
              "      promise: fileDataPromise,\n",
              "      response: {\n",
              "        action: 'continue',\n",
              "      }\n",
              "    };\n",
              "\n",
              "    // Use a chunked sending to avoid message size limits. See b/62115660.\n",
              "    let position = 0;\n",
              "    do {\n",
              "      const length = Math.min(fileData.byteLength - position, MAX_PAYLOAD_SIZE);\n",
              "      const chunk = new Uint8Array(fileData, position, length);\n",
              "      position += length;\n",
              "\n",
              "      const base64 = btoa(String.fromCharCode.apply(null, chunk));\n",
              "      yield {\n",
              "        response: {\n",
              "          action: 'append',\n",
              "          file: file.name,\n",
              "          data: base64,\n",
              "        },\n",
              "      };\n",
              "\n",
              "      let percentDone = fileData.byteLength === 0 ?\n",
              "          100 :\n",
              "          Math.round((position / fileData.byteLength) * 100);\n",
              "      percent.textContent = `${percentDone}% done`;\n",
              "\n",
              "    } while (position < fileData.byteLength);\n",
              "  }\n",
              "\n",
              "  // All done.\n",
              "  yield {\n",
              "    response: {\n",
              "      action: 'complete',\n",
              "    }\n",
              "  };\n",
              "}\n",
              "\n",
              "scope.google = scope.google || {};\n",
              "scope.google.colab = scope.google.colab || {};\n",
              "scope.google.colab._files = {\n",
              "  _uploadFiles,\n",
              "  _uploadFilesContinue,\n",
              "};\n",
              "})(self);\n",
              "</script> "
            ],
            "text/plain": [
              "<IPython.core.display.HTML object>"
            ]
          },
          "metadata": {},
          "output_type": "display_data"
        },
        {
          "ename": "TypeError",
          "evalue": "'NoneType' object is not subscriptable",
          "output_type": "error",
          "traceback": [
            "\u001b[0;31m---------------------------------------------------------------------------\u001b[0m",
            "\u001b[0;31mTypeError\u001b[0m                                 Traceback (most recent call last)",
            "\u001b[0;32m<ipython-input-4-8f301197656c>\u001b[0m in \u001b[0;36m<cell line: 0>\u001b[0;34m()\u001b[0m\n\u001b[1;32m      3\u001b[0m \u001b[0;34m\u001b[0m\u001b[0m\n\u001b[1;32m      4\u001b[0m \u001b[0;31m# Upload your kaggle.json file\u001b[0m\u001b[0;34m\u001b[0m\u001b[0;34m\u001b[0m\u001b[0m\n\u001b[0;32m----> 5\u001b[0;31m \u001b[0mfiles\u001b[0m\u001b[0;34m.\u001b[0m\u001b[0mupload\u001b[0m\u001b[0;34m(\u001b[0m\u001b[0;34m)\u001b[0m\u001b[0;34m\u001b[0m\u001b[0;34m\u001b[0m\u001b[0m\n\u001b[0m\u001b[1;32m      6\u001b[0m \u001b[0;34m\u001b[0m\u001b[0m\n\u001b[1;32m      7\u001b[0m \u001b[0;31m# Move kaggle.json to the Kaggle directory\u001b[0m\u001b[0;34m\u001b[0m\u001b[0;34m\u001b[0m\u001b[0m\n",
            "\u001b[0;32m/usr/local/lib/python3.11/dist-packages/google/colab/files.py\u001b[0m in \u001b[0;36mupload\u001b[0;34m(target_dir)\u001b[0m\n\u001b[1;32m     70\u001b[0m   \"\"\"\n\u001b[1;32m     71\u001b[0m \u001b[0;34m\u001b[0m\u001b[0m\n\u001b[0;32m---> 72\u001b[0;31m   \u001b[0muploaded_files\u001b[0m \u001b[0;34m=\u001b[0m \u001b[0m_upload_files\u001b[0m\u001b[0;34m(\u001b[0m\u001b[0mmultiple\u001b[0m\u001b[0;34m=\u001b[0m\u001b[0;32mTrue\u001b[0m\u001b[0;34m)\u001b[0m\u001b[0;34m\u001b[0m\u001b[0;34m\u001b[0m\u001b[0m\n\u001b[0m\u001b[1;32m     73\u001b[0m   \u001b[0;31m# Mapping from original filename to filename as saved locally.\u001b[0m\u001b[0;34m\u001b[0m\u001b[0;34m\u001b[0m\u001b[0m\n\u001b[1;32m     74\u001b[0m   \u001b[0mlocal_filenames\u001b[0m \u001b[0;34m=\u001b[0m \u001b[0mdict\u001b[0m\u001b[0;34m(\u001b[0m\u001b[0;34m)\u001b[0m\u001b[0;34m\u001b[0m\u001b[0;34m\u001b[0m\u001b[0m\n",
            "\u001b[0;32m/usr/local/lib/python3.11/dist-packages/google/colab/files.py\u001b[0m in \u001b[0;36m_upload_files\u001b[0;34m(multiple)\u001b[0m\n\u001b[1;32m    169\u001b[0m   \u001b[0mfiles\u001b[0m \u001b[0;34m=\u001b[0m \u001b[0m_collections\u001b[0m\u001b[0;34m.\u001b[0m\u001b[0mdefaultdict\u001b[0m\u001b[0;34m(\u001b[0m\u001b[0mbytes\u001b[0m\u001b[0;34m)\u001b[0m\u001b[0;34m\u001b[0m\u001b[0;34m\u001b[0m\u001b[0m\n\u001b[1;32m    170\u001b[0m \u001b[0;34m\u001b[0m\u001b[0m\n\u001b[0;32m--> 171\u001b[0;31m   \u001b[0;32mwhile\u001b[0m \u001b[0mresult\u001b[0m\u001b[0;34m[\u001b[0m\u001b[0;34m'action'\u001b[0m\u001b[0;34m]\u001b[0m \u001b[0;34m!=\u001b[0m \u001b[0;34m'complete'\u001b[0m\u001b[0;34m:\u001b[0m\u001b[0;34m\u001b[0m\u001b[0;34m\u001b[0m\u001b[0m\n\u001b[0m\u001b[1;32m    172\u001b[0m     result = _output.eval_js(\n\u001b[1;32m    173\u001b[0m         'google.colab._files._uploadFilesContinue(\"{output_id}\")'.format(\n",
            "\u001b[0;31mTypeError\u001b[0m: 'NoneType' object is not subscriptable"
          ]
        }
      ],
      "source": [
        "\n",
        "!pip install kaggle\n",
        "from google.colab import files\n",
        "\n",
        "# Upload your kaggle.json file\n",
        "files.upload()\n",
        "\n",
        "# Move kaggle.json to the Kaggle directory\n",
        "!mkdir -p ~/.kaggle\n",
        "!mv kaggle.json ~/.kaggle/\n",
        "!chmod 600 ~/.kaggle/kaggle.json"
      ]
    },
    {
      "cell_type": "code",
      "execution_count": null,
      "metadata": {
        "id": "KGymvN248jA4"
      },
      "outputs": [],
      "source": [
        "# Replace 'crowdflower/political-social-media-posts' with the Kaggle dataset name\n",
        "!kaggle datasets download -d crowdflower/political-social-media-posts\n",
        "\n",
        "# Unzip the dataset\n",
        "!unzip political-social-media-posts.zip"
      ]
    },
    {
      "cell_type": "code",
      "execution_count": null,
      "metadata": {
        "id": "0moJHGev8pTL"
      },
      "outputs": [],
      "source": [
        "# Reading in csv\n",
        "text_df = pd.read_csv(\"political_social_media.csv\", encoding='ISO-8859-1')\n",
        "text_df.head()"
      ]
    },
    {
      "cell_type": "markdown",
      "source": [
        "# Cleaning Data"
      ],
      "metadata": {
        "id": "TwsJHRSDq7rv"
      }
    },
    {
      "cell_type": "code",
      "source": [
        "# Making a copy of the df incase needing to revert back due to error\n",
        "clean_df = text_df.copy()"
      ],
      "metadata": {
        "id": "aLlYyIN1tyAV"
      },
      "execution_count": null,
      "outputs": []
    },
    {
      "cell_type": "code",
      "execution_count": null,
      "metadata": {
        "id": "OyCxHP4M8-FD"
      },
      "outputs": [],
      "source": [
        "# Remove columns to keep only those subject to analysis\n",
        "clean_df = text_df[['_unit_id', 'text', 'label', 'bias', 'message']]\n",
        "clean_df.head()"
      ]
    },
    {
      "cell_type": "code",
      "execution_count": null,
      "metadata": {
        "id": "1B3LgI3O9Bs6"
      },
      "outputs": [],
      "source": [
        "# --- Converting to lowercase ---\n",
        "\n",
        "# Preserve 'US' by replacing it with a placeholder\n",
        "clean_df.loc[:, 'text'] = clean_df['text'].str.replace(r'\\bUS\\b', 'PLACEHOLDER_US', regex=True)\n",
        "\n",
        "# Convert all text to lowercase for standardization\n",
        "clean_df.loc[:, 'text'] = clean_df['text'].apply(lambda x: \" \".join(x.lower() for x in x.split()))\n",
        "\n",
        "# Restore 'US' from the placeholder\n",
        "clean_df.loc[:, 'text'] = clean_df['text'].str.replace('placeholder_us', 'US', regex=False)\n",
        "\n",
        "# Display cleaned text\n",
        "clean_df['text'].head()"
      ]
    },
    {
      "cell_type": "code",
      "execution_count": null,
      "metadata": {
        "id": "hm0TZlR_9PRP"
      },
      "outputs": [],
      "source": [
        "import re  # \"regular expressions\" very useful for parsing text, looking for patterns, etc.\n",
        "\n",
        "# Define unwanted characters and patterns\n",
        "to_remove = [\n",
        "    r'@\\S+', # Matches @username\n",
        "    r'[^\\w\\s]',  # Non-word characters except spaces\n",
        "    r'#', r'-', r'\"', r';', r':', r'%', r'\\^', r'&', r'\\*', r',', r'fl', r'ª', r'û',r'ò'  # Specific symbols\n",
        "    r'&amp;', r'\\bamp\\b',  # HTML entities\n",
        "    r'\\brt\\b',  # Matches 'rt' as a standalone word\n",
        "    r'http\\S+'  # Matches http links\n",
        "]\n",
        "\n",
        "# Clean the text\n",
        "for pattern in to_remove:\n",
        "    clean_df.loc[:, 'text'] = clean_df['text'].str.replace(pattern, '', regex=True)\n",
        "\n",
        "# sometimes in the text there were random ' r ' characters so i had to remove those manually\n",
        "clean_df.loc[:, 'text'] = clean_df['text'].str.replace(r'\\s+r\\s+', ' ', regex=True)\n",
        "\n",
        "# Remove extra spaces\n",
        "clean_df.loc[:, 'text'] = clean_df['text'].str.strip().str.replace(r'\\s+', ' ', regex=True)\n",
        "\n",
        "# Display cleaned text\n",
        "clean_df.loc[:, 'text']\n"
      ]
    },
    {
      "cell_type": "code",
      "execution_count": null,
      "metadata": {
        "id": "4QmdzIv6EcPo"
      },
      "outputs": [],
      "source": [
        "# Remove filler words such as \"and,\" \"the,\" \"is\" that are generally considered irrelevant for NLP.\n",
        "nltk.download('stopwords')\n",
        "\n",
        "from nltk.corpus import stopwords\n",
        "stop = stopwords.words('english')\n",
        "clean_df.loc[:, 'text'] = clean_df['text'].apply(lambda x: \" \".join(x for x in x.split() if x not in stop))"
      ]
    },
    {
      "cell_type": "code",
      "source": [
        "clean_df['text']"
      ],
      "metadata": {
        "id": "oI8st0aElVGi"
      },
      "execution_count": null,
      "outputs": []
    },
    {
      "cell_type": "code",
      "execution_count": null,
      "metadata": {
        "id": "MfVjo0E2Iw8E"
      },
      "outputs": [],
      "source": [
        "freq = pd.Series(' '.join(clean_df['text']).split()).value_counts()\n",
        "#freq[-20:] #least common words\n",
        "#freq[:20] #most common words\n",
        "freq"
      ]
    },
    {
      "cell_type": "code",
      "source": [
        "# Optional/Not Implemented - remove less frequent words to reduce vocabulary clutter. This step can help ml model train quicker, and or improve accuracy.\n",
        "# But it may not be smart because our dataset is relatively small, and removing these small words may throw out important contextual data.\n",
        "# Also, Roberta is capable of tokenizing uncommon words in a way that extracts use out of them regardless."
      ],
      "metadata": {
        "id": "-S45N6j71NRj"
      },
      "execution_count": null,
      "outputs": []
    },
    {
      "cell_type": "markdown",
      "source": [
        "Spell correction using FastText library and Swifter library.\n",
        "1. Swifter is a parallel computing library that is well optimized for pandas\n",
        ".apply() function. Not entirely useful for this small dataset but could save time with larger ones.\n",
        "2. FastText is context-aware, meaning it can infer spelling corrections even for out-of-vocabulary words by breaking them down into subword units.\n",
        "Best for applications requiring a more flexible and adaptable correction system, such as analyzing user-generated content."
      ],
      "metadata": {
        "id": "hWfLMlKS6N5J"
      }
    },
    {
      "cell_type": "code",
      "source": [
        "# Download pre-trained FastText model (English wiki)\n",
        "!wget https://dl.fbaipublicfiles.com/fasttext/supervised-models/lid.176.bin"
      ],
      "metadata": {
        "collapsed": true,
        "id": "91qZSHBl5q-G"
      },
      "execution_count": null,
      "outputs": []
    },
    {
      "cell_type": "code",
      "source": [
        "import swifter\n",
        "import fasttext\n",
        "\n",
        "\n",
        "def fasttext_correct(text):\n",
        "    corrected_text = []\n",
        "    for word in text.split():\n",
        "        prediction = model.predict(word)  # Predict language and confidence\n",
        "        if prediction[1][0] > 0.5:\n",
        "            corrected_text.append(word)\n",
        "        else:\n",
        "            # Use FastText to suggest similar words\n",
        "            similar_words = model.get_nearest_neighbors(word)\n",
        "            if similar_words:\n",
        "                corrected_text.append(similar_words[0][1])  # Choose closest match\n",
        "            else:\n",
        "                corrected_text.append(word)  # Keep the original if no match found\n",
        "    return ' '.join(corrected_text)\n"
      ],
      "metadata": {
        "id": "mvAE0Y2YHgX3"
      },
      "execution_count": null,
      "outputs": []
    },
    {
      "cell_type": "code",
      "source": [
        "# Apply spelling correction to the DataFrame\n",
        "clean_df['text'] = clean_df['text'].swifter.apply(fasttext_correct)"
      ],
      "metadata": {
        "id": "H6wc-owb36ru"
      },
      "execution_count": null,
      "outputs": []
    },
    {
      "cell_type": "code",
      "source": [
        "#TODO: Drop rows where there is no TEXT variable"
      ],
      "metadata": {
        "id": "zZmyxagff-pA"
      },
      "execution_count": null,
      "outputs": []
    },
    {
      "cell_type": "markdown",
      "source": [
        "# Pre ML EDA"
      ],
      "metadata": {
        "id": "PRfU3uv68WQX"
      }
    },
    {
      "cell_type": "code",
      "source": [
        "eda_df = clean_df"
      ],
      "metadata": {
        "id": "VrbGpJiw2wFL"
      },
      "execution_count": null,
      "outputs": []
    },
    {
      "cell_type": "markdown",
      "source": [
        "Prepare Bias and Message Columns to Categorical\n"
      ],
      "metadata": {
        "id": "sf8SdR7F9OIe"
      }
    },
    {
      "cell_type": "code",
      "source": [
        "# Convert the bias and message columns to categorical (this will be helpful for classification methods later on)\n",
        "eda_df.bias = pd.Categorical(eda_df.bias)\n",
        "eda_df.message = pd.Categorical(eda_df.message)"
      ],
      "metadata": {
        "collapsed": true,
        "id": "-MvIqb9y2ygT"
      },
      "execution_count": null,
      "outputs": []
    },
    {
      "cell_type": "markdown",
      "source": [
        "Create a \"vector\" column with vectorized \"text\" field."
      ],
      "metadata": {
        "id": "GXrv5vpB85H1"
      }
    },
    {
      "cell_type": "code",
      "source": [
        "eda_df['vector'] = [i for i in eda_df.text.str.split(\" \")]"
      ],
      "metadata": {
        "collapsed": true,
        "id": "Etp79cWZ83Bk"
      },
      "execution_count": null,
      "outputs": []
    },
    {
      "cell_type": "code",
      "source": [
        "# Let's now look at the first 10 rows (capitalized column headers)\n",
        "eda_df.bias = pd.Categorical(eda_df.bias)\n",
        "renameColumns = {'bias' : 'BIAS', 'message' : 'MESSAGE', 'label' : 'LABEL', 'text' : 'TEXT', 'vector' : 'VECTOR'}\n",
        "eda_df.rename(mapper = renameColumns, axis = 1, inplace=True)\n",
        "eda_df.head(10)"
      ],
      "metadata": {
        "id": "SQgwf8CQ9283"
      },
      "execution_count": null,
      "outputs": []
    },
    {
      "cell_type": "code",
      "source": [
        "#Again let's look at the type of values for the remaining columns\n",
        "for column in eda_df.columns:\n",
        "    print(\"%s       \\t# of unique values: %s,   \\tdtype: %s\" % (column, len(np.unique(eda_df[column].values)), eda_df[column].dtype))"
      ],
      "metadata": {
        "id": "nt23qZuC-jmW"
      },
      "execution_count": null,
      "outputs": []
    },
    {
      "cell_type": "code",
      "source": [
        "print(\"There are {} observations and {} features in this dataset. \\n\".format(eda_df.shape[0],eda_df.shape[1]))"
      ],
      "metadata": {
        "id": "Gt9CHQ1L-1f7"
      },
      "execution_count": null,
      "outputs": []
    },
    {
      "cell_type": "code",
      "source": [
        "count_words = Counter()\n",
        "eda_df.VECTOR.apply(count_words.update)\n",
        "print('MOST COMMON WORD (COUNT):\\n', count_words.most_common(50))\n",
        "print('\\n\\n')\n",
        "print('LEAST COMMON WORD (COUNT):\\n', count_words.most_common()[-250:-200])"
      ],
      "metadata": {
        "id": "Yzl6qM33B2D_"
      },
      "execution_count": null,
      "outputs": []
    },
    {
      "cell_type": "code",
      "source": [
        "x = eda_df.MESSAGE.unique()\n",
        "y = eda_df.MESSAGE.value_counts()\n",
        "plt.bar(x, y);\n",
        "plt.xticks(rotation=30);\n",
        "plt.ylabel('Frequency');"
      ],
      "metadata": {
        "id": "dZlwyVK0CSuH"
      },
      "execution_count": null,
      "outputs": []
    },
    {
      "cell_type": "code",
      "source": [
        "print(\"Total Messages:\\n\",eda_df.MESSAGE.describe())\n",
        "print(\"\\nBiased word choices:\\n\",eda_df.BIAS.describe())"
      ],
      "metadata": {
        "id": "VjRMO_3nCY6x"
      },
      "execution_count": null,
      "outputs": []
    },
    {
      "cell_type": "code",
      "source": [
        "data = eda_df['LABEL'].iloc[:]\n",
        "states = data.groupby(eda_df['LABEL']).count()\n",
        "states.sort_values(ascending=False)"
      ],
      "metadata": {
        "id": "JDDpVrh4DPim"
      },
      "execution_count": null,
      "outputs": []
    },
    {
      "cell_type": "code",
      "source": [
        "ptext = \" \".join(review for review in eda_df.TEXT)\n",
        "print (\"There are {} words in the combination of all tweets.\".format(len(ptext)))"
      ],
      "metadata": {
        "id": "2vYEkaFmdQ2R"
      },
      "execution_count": null,
      "outputs": []
    },
    {
      "cell_type": "markdown",
      "source": [
        "# Machine Learning"
      ],
      "metadata": {
        "id": "qhY0RHZbgFkr"
      }
    },
    {
      "cell_type": "markdown",
      "source": [
        "So right now, we want to train a model to predict one of 3 bias categories for each tweet. **Left, right, and neutral**. The problem is, the current dataset we are using only has 2 categories; **neutral and partisan**. This don't work unc!!!!!! Im gonna try to reclassify the data somehow."
      ],
      "metadata": {
        "id": "-TbW_m2GkINV"
      }
    },
    {
      "cell_type": "markdown",
      "source": [
        "Testing k means clustering to seperate text into 'left' 'neutral' and 'right' bias categories. This prob wont work lol\n"
      ],
      "metadata": {
        "id": "_F8RcZNvf1K_"
      }
    },
    {
      "cell_type": "code",
      "source": [
        "import pandas as pd\n",
        "import numpy as np\n",
        "import matplotlib.pyplot as plt\n",
        "import seaborn as sns\n",
        "from sklearn.feature_extraction.text import TfidfVectorizer\n",
        "from sklearn.cluster import KMeans\n",
        "from sklearn.decomposition import PCA\n",
        "from wordcloud import WordCloud"
      ],
      "metadata": {
        "id": "XFdvAQTXga03"
      },
      "execution_count": null,
      "outputs": []
    },
    {
      "cell_type": "code",
      "source": [
        "ml_df = eda_df"
      ],
      "metadata": {
        "id": "2oLnx0dygNnx",
        "colab": {
          "base_uri": "https://localhost:8080/",
          "height": 144
        },
        "outputId": "7340bf49-32ff-45dd-ec0f-6432a63e5568"
      },
      "execution_count": null,
      "outputs": [
        {
          "output_type": "error",
          "ename": "NameError",
          "evalue": "name 'eda_df' is not defined",
          "traceback": [
            "\u001b[0;31m---------------------------------------------------------------------------\u001b[0m",
            "\u001b[0;31mNameError\u001b[0m                                 Traceback (most recent call last)",
            "\u001b[0;32m<ipython-input-19-ecc20295e352>\u001b[0m in \u001b[0;36m<cell line: 0>\u001b[0;34m()\u001b[0m\n\u001b[0;32m----> 1\u001b[0;31m \u001b[0mml_df\u001b[0m \u001b[0;34m=\u001b[0m \u001b[0meda_df\u001b[0m\u001b[0;34m\u001b[0m\u001b[0;34m\u001b[0m\u001b[0m\n\u001b[0m",
            "\u001b[0;31mNameError\u001b[0m: name 'eda_df' is not defined"
          ]
        }
      ]
    },
    {
      "cell_type": "code",
      "source": [
        "# Convert text to TF-IDF features\n",
        "vectorizer = TfidfVectorizer(max_features=5000, ngram_range=(1,2))\n",
        "X = vectorizer.fit_transform(ml_df['TEXT'])\n",
        "\n",
        "# Apply K-Means clustering to find 3 clusters\n",
        "kmeans = KMeans(n_clusters=3, random_state=42, n_init=10)\n",
        "ml_df['cluster'] = kmeans.fit_predict(X)\n",
        "\n",
        "# Use PCA for dimensionality reduction to visualize clusters\n",
        "pca = PCA(n_components=2)\n",
        "X_pca = pca.fit_transform(X.toarray())\n",
        "\n",
        "ml_df['pca1'] = X_pca[:, 0]\n",
        "ml_df['pca2'] = X_pca[:, 1]\n",
        "\n",
        "# Plot the clusters\n",
        "plt.figure(figsize=(10, 6))\n",
        "sns.scatterplot(x='pca1', y='pca2', hue=ml_df['cluster'], palette='viridis', data=ml_df)\n",
        "plt.title('Clustering of Political Tweets (K-Means + PCA)')\n",
        "plt.xlabel('PCA Component 1')\n",
        "plt.ylabel('PCA Component 2')\n",
        "plt.legend(title=\"Cluster\", labels=['Cluster 0', 'Cluster 1', 'Cluster 2'])\n",
        "plt.show()\n",
        "\n",
        "# Generate WordClouds for each cluster\n",
        "for cluster in range(3):\n",
        "    cluster_text = ' '.join(ml_df[ml_df['cluster'] == cluster]['TEXT'])\n",
        "    wordcloud = WordCloud(width=800, height=400, background_color='white').generate(cluster_text)\n",
        "    plt.figure(figsize=(8, 4))\n",
        "    plt.imshow(wordcloud, interpolation='bilinear')\n",
        "    plt.axis('off')\n",
        "    plt.title(f'Word Cloud for Cluster {cluster}')\n",
        "    plt.show()"
      ],
      "metadata": {
        "id": "myr_AUAjdPOT"
      },
      "execution_count": null,
      "outputs": []
    },
    {
      "cell_type": "markdown",
      "source": [
        "Okay so that definitely DID NOT work unc... Unless it did and we just need to look at it in 3 dimensions.\n",
        "I am going to attempt zero-shot classification. basically i just have facebooks bart come in and reclassify the data for us with its smart little ai brain into 3 groups ('neutral, 'left', and 'right'). and my 2019 macbook has an Intel i5!!! I dont think this will ever finish running."
      ],
      "metadata": {
        "id": "Z5I0MCkqjLSK"
      }
    },
    {
      "cell_type": "code",
      "source": [
        "# Initialize the zero-shot classification pipeline using bart\n",
        "from transformers import pipeline\n",
        "\n",
        "classifier = pipeline(\"zero-shot-classification\", model=\"facebook/bart-large-mnli\")"
      ],
      "metadata": {
        "id": "C8a0loQd-x9b",
        "colab": {
          "base_uri": "https://localhost:8080/",
          "height": 227,
          "referenced_widgets": [
            "3933faaba97c4e13b365bdef127cfc70",
            "558156e9e7734a63ad7283634a4b421d",
            "70f552f95acb4dbdbe53dbdb078833ff",
            "c357a8ac82d54b779c861b02d67d71dc",
            "04c3350d3b0c4ae9b9da607775736b15",
            "a15799d11a444529ac16f53322a58cde",
            "def45e7b317348bfb133ace9c11612f5",
            "dcc37e77624e4747a3a331dc63b44f80",
            "f0f734007f564213b0faedc4de717767",
            "36647ea768b9420aa703a1a5fb4fc9bc",
            "c444a7cf9c674efa8eb6ec8bf5688ff7",
            "fe9c84b33eb8481ab5ac340fd06befc4",
            "1ecf094867c2457f811d2a5ca6cf32a3",
            "bbd21e4290434314afbac6a5697bda15",
            "0a8b1f142e184bbdb4c1d454def4d29e",
            "98ab87f23d254a8ab3e078ed92eb1dd4",
            "33bcc3a87d11464ebb435d184ba458d9",
            "2eb131ce094e4c20ad5eef04e915d32c",
            "17d0faa20f0c446c9e887e4d74699ac7",
            "ad5ef14798f449b29a2f36de57c9fbcf",
            "37d45c9b46ca44239c412f06cfca0b0c",
            "8d76421b9c7048098d38ed7caa767f42",
            "57aac74f22e54cb19fde67cae4272fc9",
            "469f761f1758400bad1e003f0b3a22c6",
            "e2037d76d3b747a2964adbddf300224e",
            "ecba02e4df3345c2b1821cb91a4200af",
            "e29498bdc6b5428e896647517fb2a2cc",
            "050d12877e084432aa8f282d17944472",
            "9a20901ad097486fbfc523040c8459e8",
            "082701e6689e4aa886a01b98c3c62938",
            "38be47df2d0c4c43bccc5c781af54ffc",
            "65de3cd2f7414cad9927d46e9324d0d1",
            "ab40b28f6129471dab14f5f9b4d9ef3c",
            "be9e144954bd4c33ac55069770f4ad35",
            "5d99b5c2472d46d1939fe5697b74dc46",
            "47bb7c115479421e8d79725537132653",
            "9c4585ca98824673b7eb2d7f5edbec52",
            "b81060b8007540df9c5fa69658af5d5a",
            "a3393edbcbf2421082c722c4146582ae",
            "c8992cc5d84047b8911bc9619790f426",
            "3a9ed5fed0a349ce933cb6028b03bbce",
            "7a34fb5adca5427393ea698eca8956d4",
            "37b3504aefcc412dae8158f659c2bd9a",
            "ab99ea02793244268bf1d55e26687583",
            "198834ef88fe403badb61c730420d38c",
            "1d720dcaf10e4b4f8e31fa1ad403999b",
            "9b5760d1f48146ffbdc6de69f9a33b71",
            "4feddc938b7e48c8a639ec10b8707162",
            "39659d1a67fb4a449f72537873101d85",
            "f2eeae58a33b4b67aab071e3419e93d6",
            "6984725dd5fd4d5b97916563f8864bbf",
            "d4fffcfd34e54cfe93027d9d6eefa9c1",
            "51bbdba4e9e74d579fb067c47f68f359",
            "5d10c0e6304d41498638c2c15b5aea00",
            "4c58d08cac244a36be346457dfe09bf2",
            "51da4d6b58c946dab1f30099ab30d037",
            "e9aa66ccae9948a78730b40484cc4c4f",
            "ff42a03ac2a444eea82af85d7cbc3552",
            "d21c9533b83043ed9f3f6ceb6e684b1e",
            "666ef304b8f44e86bc86a2c1b819ae0e",
            "37a42b02c99f4700b1050102e2776d7d",
            "1395771a8d114ec5a09adfa93134480e",
            "39ef3699fc6e4ff6a0eebab4fb23a62a",
            "59ae8090242c4a159cca913d5f4c1439",
            "53a62bb7c6ef43779bce2c60d7dc4dad",
            "6a72320d4e9e4e9d828ae048238a9e99"
          ]
        },
        "outputId": "6573e8f3-bbdb-483a-fee5-ed4c166ef841"
      },
      "execution_count": null,
      "outputs": [
        {
          "output_type": "display_data",
          "data": {
            "text/plain": [
              "config.json:   0%|          | 0.00/1.15k [00:00<?, ?B/s]"
            ],
            "application/vnd.jupyter.widget-view+json": {
              "version_major": 2,
              "version_minor": 0,
              "model_id": "3933faaba97c4e13b365bdef127cfc70"
            }
          },
          "metadata": {}
        },
        {
          "output_type": "display_data",
          "data": {
            "text/plain": [
              "model.safetensors:   0%|          | 0.00/1.63G [00:00<?, ?B/s]"
            ],
            "application/vnd.jupyter.widget-view+json": {
              "version_major": 2,
              "version_minor": 0,
              "model_id": "fe9c84b33eb8481ab5ac340fd06befc4"
            }
          },
          "metadata": {}
        },
        {
          "output_type": "display_data",
          "data": {
            "text/plain": [
              "tokenizer_config.json:   0%|          | 0.00/26.0 [00:00<?, ?B/s]"
            ],
            "application/vnd.jupyter.widget-view+json": {
              "version_major": 2,
              "version_minor": 0,
              "model_id": "57aac74f22e54cb19fde67cae4272fc9"
            }
          },
          "metadata": {}
        },
        {
          "output_type": "display_data",
          "data": {
            "text/plain": [
              "vocab.json:   0%|          | 0.00/899k [00:00<?, ?B/s]"
            ],
            "application/vnd.jupyter.widget-view+json": {
              "version_major": 2,
              "version_minor": 0,
              "model_id": "be9e144954bd4c33ac55069770f4ad35"
            }
          },
          "metadata": {}
        },
        {
          "output_type": "display_data",
          "data": {
            "text/plain": [
              "merges.txt:   0%|          | 0.00/456k [00:00<?, ?B/s]"
            ],
            "application/vnd.jupyter.widget-view+json": {
              "version_major": 2,
              "version_minor": 0,
              "model_id": "198834ef88fe403badb61c730420d38c"
            }
          },
          "metadata": {}
        },
        {
          "output_type": "display_data",
          "data": {
            "text/plain": [
              "tokenizer.json:   0%|          | 0.00/1.36M [00:00<?, ?B/s]"
            ],
            "application/vnd.jupyter.widget-view+json": {
              "version_major": 2,
              "version_minor": 0,
              "model_id": "51da4d6b58c946dab1f30099ab30d037"
            }
          },
          "metadata": {}
        },
        {
          "output_type": "stream",
          "name": "stderr",
          "text": [
            "Device set to use cpu\n"
          ]
        }
      ]
    },
    {
      "cell_type": "code",
      "source": [
        "# Same as the code below except this code doesnt give a confidence score of the predicted label. I think a confidence score would be nice so maybe dont run this cell.\n",
        "\n",
        "# Define candidate labels for classification\n",
        "candidate_labels = [\"left\", \"neutral\", \"right\"]\n",
        "\n",
        "# Function to classify a single tweet\n",
        "def classify_text(text):\n",
        "    result = classifier(text, candidate_labels=candidate_labels)\n",
        "    return result['labels'][0]  # The highest scoring label\n",
        "\n",
        "# Apply the classification function to the 'TEXT' column\n",
        "ml_df['PREDICTED_BIAS'] = ml_df['TEXT'].apply(classify_text)\n",
        "\n",
        "# Display some sample results\n",
        "print(ml_df[['TEXT', 'BIAS', 'PREDICTED_BIAS']].head())"
      ],
      "metadata": {
        "id": "e1fTwwFefy4X",
        "collapsed": true,
        "colab": {
          "base_uri": "https://localhost:8080/",
          "height": 216
        },
        "outputId": "34b8e2a1-f190-446f-a9cf-aecbe47ad0f2"
      },
      "execution_count": null,
      "outputs": [
        {
          "output_type": "error",
          "ename": "NameError",
          "evalue": "name 'ml_df' is not defined",
          "traceback": [
            "\u001b[0;31m---------------------------------------------------------------------------\u001b[0m",
            "\u001b[0;31mNameError\u001b[0m                                 Traceback (most recent call last)",
            "\u001b[0;32m<ipython-input-17-87bb8df05b14>\u001b[0m in \u001b[0;36m<cell line: 0>\u001b[0;34m()\u001b[0m\n\u001b[1;32m     10\u001b[0m \u001b[0;34m\u001b[0m\u001b[0m\n\u001b[1;32m     11\u001b[0m \u001b[0;31m# Apply the classification function to the 'TEXT' column\u001b[0m\u001b[0;34m\u001b[0m\u001b[0;34m\u001b[0m\u001b[0m\n\u001b[0;32m---> 12\u001b[0;31m \u001b[0mml_df\u001b[0m\u001b[0;34m[\u001b[0m\u001b[0;34m'PREDICTED_BIAS'\u001b[0m\u001b[0;34m]\u001b[0m \u001b[0;34m=\u001b[0m \u001b[0mml_df\u001b[0m\u001b[0;34m[\u001b[0m\u001b[0;34m'TEXT'\u001b[0m\u001b[0;34m]\u001b[0m\u001b[0;34m.\u001b[0m\u001b[0mapply\u001b[0m\u001b[0;34m(\u001b[0m\u001b[0mclassify_text\u001b[0m\u001b[0;34m)\u001b[0m\u001b[0;34m\u001b[0m\u001b[0;34m\u001b[0m\u001b[0m\n\u001b[0m\u001b[1;32m     13\u001b[0m \u001b[0;34m\u001b[0m\u001b[0m\n\u001b[1;32m     14\u001b[0m \u001b[0;31m# Display some sample results\u001b[0m\u001b[0;34m\u001b[0m\u001b[0;34m\u001b[0m\u001b[0m\n",
            "\u001b[0;31mNameError\u001b[0m: name 'ml_df' is not defined"
          ]
        }
      ]
    },
    {
      "cell_type": "code",
      "source": [
        "# with confidence score\n",
        "\n",
        "# Define candidate labels for classification\n",
        "candidate_labels = [\"left\", \"neutral\", \"right\"]\n",
        "\n",
        "# Function to get the confidence score of the predicted label\n",
        "def classify_text_with_score(text):\n",
        "    result = classifier(text, candidate_labels=candidate_labels)\n",
        "    return pd.Series({'PREDICTED_BIAS': result['labels'][0], 'CONFIDENCE': result['scores'][0]})\n",
        "\n",
        "# Apply classification and extract scores\n",
        "ml_df[['PREDICTED_BIAS', 'CONFIDENCE']] = ml_df['TEXT'].apply(classify_text_with_score)\n",
        "\n",
        "# Summary statistics of confidence scores\n",
        "print(\"\\nConfidence Score Summary:\")\n",
        "print(ml_df['CONFIDENCE'].describe())\n",
        "\n",
        "# Plot distribution of confidence scores\n",
        "plt.figure(figsize=(8,5))\n",
        "sns.histplot(ml_df['CONFIDENCE'], bins=20, kde=True)\n",
        "plt.title(\"Confidence Score Distribution\")\n",
        "plt.xlabel(\"Confidence Score\")\n",
        "plt.ylabel(\"Frequency\")\n",
        "plt.show()"
      ],
      "metadata": {
        "id": "9rr_7C19iCAz"
      },
      "execution_count": null,
      "outputs": []
    },
    {
      "cell_type": "markdown",
      "source": [
        "I think this error occured because we have rows with no text in them. Still need to go back to data cleaning and fix that.![image.png](data:image/png;base64,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)"
      ],
      "metadata": {
        "id": "SHej-tL2mDOB"
      }
    },
    {
      "cell_type": "markdown",
      "source": [
        "\n",
        "\n",
        "\n",
        "This code basically just makes a confusion matrix but I think it will kinda suck. All it really tells us is if the reclassification was able to effectively detect the 'partisan' rows and classify them as either 'right' or 'left', and the 'neutral' rows as 'neutral'. I dont really know how confusion matrices work but it cant be that confusing right. haha guys do u get it."
      ],
      "metadata": {
        "id": "xSN_yBlflLZa"
      }
    },
    {
      "cell_type": "code",
      "source": [
        "# Convert actual and predicted labels to numeric values\n",
        "label_mapping = {'neutral': 0, 'partisan': 1}\n",
        "ml_df['BIAS_NUM'] = ml_df['BIAS'].map(label_mapping)\n",
        "ml_df['PREDICTED_BIAS_NUM'] = ml_df['PREDICTED_BIAS'].replace({'left': 'partisan', 'right': 'partisan', 'neutral': 'neutral'}).map(label_mapping)\n",
        "\n",
        "# Generate the confusion matrix\n",
        "conf_matrix = confusion_matrix(ml_df['BIAS_NUM'], ml_df['PREDICTED_BIAS_NUM'])\n",
        "\n",
        "# Plot confusion matrix\n",
        "plt.figure(figsize=(8,6))\n",
        "sns.heatmap(conf_matrix, annot=True, fmt='d', cmap=\"Blues\", xticklabels=label_mapping.keys(), yticklabels=label_mapping.keys())\n",
        "plt.xlabel(\"Predicted\")\n",
        "plt.ylabel(\"Actual\")\n",
        "plt.title(\"Confusion Matrix (Neutral vs Partisan)\")\n",
        "plt.show()\n",
        "\n",
        "# Print classification report\n",
        "print(\"Classification Report:\\n\")\n",
        "print(classification_report(ml_df['BIAS_NUM'], ml_df['PREDICTED_BIAS_NUM'], target_names=label_mapping.keys()))\n"
      ],
      "metadata": {
        "id": "8mXMfyfLiZbv"
      },
      "execution_count": null,
      "outputs": []
    },
    {
      "cell_type": "code",
      "source": [
        "!pip install transformers torch"
      ],
      "metadata": {
        "colab": {
          "base_uri": "https://localhost:8080/"
        },
        "id": "ecJF0QWdOfMy",
        "outputId": "2aab35e5-c933-4646-d606-59fef8b9c6a5"
      },
      "execution_count": null,
      "outputs": [
        {
          "output_type": "stream",
          "name": "stdout",
          "text": [
            "Requirement already satisfied: transformers in /usr/local/lib/python3.11/dist-packages (4.47.1)\n",
            "Requirement already satisfied: torch in /usr/local/lib/python3.11/dist-packages (2.5.1+cu121)\n",
            "Requirement already satisfied: filelock in /usr/local/lib/python3.11/dist-packages (from transformers) (3.17.0)\n",
            "Requirement already satisfied: huggingface-hub<1.0,>=0.24.0 in /usr/local/lib/python3.11/dist-packages (from transformers) (0.27.1)\n",
            "Requirement already satisfied: numpy>=1.17 in /usr/local/lib/python3.11/dist-packages (from transformers) (1.26.4)\n",
            "Requirement already satisfied: packaging>=20.0 in /usr/local/lib/python3.11/dist-packages (from transformers) (24.2)\n",
            "Requirement already satisfied: pyyaml>=5.1 in /usr/local/lib/python3.11/dist-packages (from transformers) (6.0.2)\n",
            "Requirement already satisfied: regex!=2019.12.17 in /usr/local/lib/python3.11/dist-packages (from transformers) (2024.11.6)\n",
            "Requirement already satisfied: requests in /usr/local/lib/python3.11/dist-packages (from transformers) (2.32.3)\n",
            "Requirement already satisfied: tokenizers<0.22,>=0.21 in /usr/local/lib/python3.11/dist-packages (from transformers) (0.21.0)\n",
            "Requirement already satisfied: safetensors>=0.4.1 in /usr/local/lib/python3.11/dist-packages (from transformers) (0.5.2)\n",
            "Requirement already satisfied: tqdm>=4.27 in /usr/local/lib/python3.11/dist-packages (from transformers) (4.67.1)\n",
            "Requirement already satisfied: typing-extensions>=4.8.0 in /usr/local/lib/python3.11/dist-packages (from torch) (4.12.2)\n",
            "Requirement already satisfied: networkx in /usr/local/lib/python3.11/dist-packages (from torch) (3.4.2)\n",
            "Requirement already satisfied: jinja2 in /usr/local/lib/python3.11/dist-packages (from torch) (3.1.5)\n",
            "Requirement already satisfied: fsspec in /usr/local/lib/python3.11/dist-packages (from torch) (2024.10.0)\n",
            "Requirement already satisfied: nvidia-cuda-nvrtc-cu12==12.1.105 in /usr/local/lib/python3.11/dist-packages (from torch) (12.1.105)\n",
            "Requirement already satisfied: nvidia-cuda-runtime-cu12==12.1.105 in /usr/local/lib/python3.11/dist-packages (from torch) (12.1.105)\n",
            "Requirement already satisfied: nvidia-cuda-cupti-cu12==12.1.105 in /usr/local/lib/python3.11/dist-packages (from torch) (12.1.105)\n",
            "Requirement already satisfied: nvidia-cudnn-cu12==9.1.0.70 in /usr/local/lib/python3.11/dist-packages (from torch) (9.1.0.70)\n",
            "Requirement already satisfied: nvidia-cublas-cu12==12.1.3.1 in /usr/local/lib/python3.11/dist-packages (from torch) (12.1.3.1)\n",
            "Requirement already satisfied: nvidia-cufft-cu12==11.0.2.54 in /usr/local/lib/python3.11/dist-packages (from torch) (11.0.2.54)\n",
            "Requirement already satisfied: nvidia-curand-cu12==10.3.2.106 in /usr/local/lib/python3.11/dist-packages (from torch) (10.3.2.106)\n",
            "Requirement already satisfied: nvidia-cusolver-cu12==11.4.5.107 in /usr/local/lib/python3.11/dist-packages (from torch) (11.4.5.107)\n",
            "Requirement already satisfied: nvidia-cusparse-cu12==12.1.0.106 in /usr/local/lib/python3.11/dist-packages (from torch) (12.1.0.106)\n",
            "Requirement already satisfied: nvidia-nccl-cu12==2.21.5 in /usr/local/lib/python3.11/dist-packages (from torch) (2.21.5)\n",
            "Requirement already satisfied: nvidia-nvtx-cu12==12.1.105 in /usr/local/lib/python3.11/dist-packages (from torch) (12.1.105)\n",
            "Requirement already satisfied: triton==3.1.0 in /usr/local/lib/python3.11/dist-packages (from torch) (3.1.0)\n",
            "Requirement already satisfied: sympy==1.13.1 in /usr/local/lib/python3.11/dist-packages (from torch) (1.13.1)\n",
            "Requirement already satisfied: nvidia-nvjitlink-cu12 in /usr/local/lib/python3.11/dist-packages (from nvidia-cusolver-cu12==11.4.5.107->torch) (12.6.85)\n",
            "Requirement already satisfied: mpmath<1.4,>=1.1.0 in /usr/local/lib/python3.11/dist-packages (from sympy==1.13.1->torch) (1.3.0)\n",
            "Requirement already satisfied: MarkupSafe>=2.0 in /usr/local/lib/python3.11/dist-packages (from jinja2->torch) (3.0.2)\n",
            "Requirement already satisfied: charset-normalizer<4,>=2 in /usr/local/lib/python3.11/dist-packages (from requests->transformers) (3.4.1)\n",
            "Requirement already satisfied: idna<4,>=2.5 in /usr/local/lib/python3.11/dist-packages (from requests->transformers) (3.10)\n",
            "Requirement already satisfied: urllib3<3,>=1.21.1 in /usr/local/lib/python3.11/dist-packages (from requests->transformers) (2.3.0)\n",
            "Requirement already satisfied: certifi>=2017.4.17 in /usr/local/lib/python3.11/dist-packages (from requests->transformers) (2024.12.14)\n"
          ]
        }
      ]
    },
    {
      "cell_type": "markdown",
      "source": [
        "Here is our official machine learning model, RoBERTa from hugging face. Now, let's get ready to rumbleeeeeeeeeeeeeee"
      ],
      "metadata": {
        "id": "kxZeUFxvQYye"
      }
    },
    {
      "cell_type": "markdown",
      "source": [
        "# RoBERTa"
      ],
      "metadata": {
        "id": "F7bRWyXgS87j"
      }
    },
    {
      "cell_type": "code",
      "source": [
        "from transformers import AutoTokenizer, AutoModelForSequenceClassification\n",
        "import torch"
      ],
      "metadata": {
        "id": "FnsReMi3OleL"
      },
      "execution_count": null,
      "outputs": []
    },
    {
      "cell_type": "code",
      "source": [
        "def analyze_sentiment(text):\n",
        "    # Tokenize the input text\n",
        "    inputs = tokenizer(text, return_tensors=\"pt\", truncation=True, padding=True)\n",
        "\n",
        "    # Pass the input through the model\n",
        "    with torch.no_grad():\n",
        "        outputs = model(**inputs)\n",
        "\n",
        "    # Get the predicted probabilities\n",
        "    probs = torch.nn.functional.softmax(outputs.logits, dim=-1)\n",
        "\n",
        "    # Get the predicted sentiment label\n",
        "    sentiment_label = torch.argmax(probs, dim=1).item()\n",
        "\n",
        "    # Map the label to a sentiment\n",
        "    sentiment_map = {0: \"Negative\", 1: \"Neutral\", 2: \"Positive\"}\n",
        "    sentiment = sentiment_map[sentiment_label]\n",
        "\n",
        "    return sentiment, probs"
      ],
      "metadata": {
        "id": "OhOrwrMyPq00"
      },
      "execution_count": null,
      "outputs": []
    },
    {
      "cell_type": "code",
      "source": [
        "# Example text\n",
        "text = \"Hello, world\"\n",
        "\n",
        "# Analyze sentiment\n",
        "sentiment, probs = analyze_sentiment(text)\n",
        "print(f\"Sentiment: {sentiment}\")\n",
        "print(f\"Probabilities: Negative: {probs[0][0]:.4f}, Neutral: {probs[0][1]:.4f}, Positive: {probs[0][2]:.4f}\")"
      ],
      "metadata": {
        "colab": {
          "base_uri": "https://localhost:8080/"
        },
        "id": "pHaswg_hPsrj",
        "outputId": "c35b4a81-fda8-4db5-8d87-cb17893fb6d7"
      },
      "execution_count": null,
      "outputs": [
        {
          "output_type": "stream",
          "name": "stdout",
          "text": [
            "Sentiment: Positive\n",
            "Probabilities: Negative: 0.0434, Neutral: 0.4247, Positive: 0.5319\n"
          ]
        }
      ]
    },
    {
      "cell_type": "code",
      "source": [],
      "metadata": {
        "id": "06sJaTe_PxII"
      },
      "execution_count": null,
      "outputs": []
    }
  ],
  "metadata": {
    "colab": {
      "provenance": [],
      "collapsed_sections": [
        "p9-Tg581rEIQ",
        "uAgaj6Naq0MZ"
      ],
      "include_colab_link": true
    },
    "kernelspec": {
      "display_name": "Python 3",
      "name": "python3"
    },
    "language_info": {
      "name": "python"
    },
    "widgets": {
      "application/vnd.jupyter.widget-state+json": {
        "3933faaba97c4e13b365bdef127cfc70": {
          "model_module": "@jupyter-widgets/controls",
          "model_name": "HBoxModel",
          "model_module_version": "1.5.0",
          "state": {
            "_dom_classes": [],
            "_model_module": "@jupyter-widgets/controls",
            "_model_module_version": "1.5.0",
            "_model_name": "HBoxModel",
            "_view_count": null,
            "_view_module": "@jupyter-widgets/controls",
            "_view_module_version": "1.5.0",
            "_view_name": "HBoxView",
            "box_style": "",
            "children": [
              "IPY_MODEL_558156e9e7734a63ad7283634a4b421d",
              "IPY_MODEL_70f552f95acb4dbdbe53dbdb078833ff",
              "IPY_MODEL_c357a8ac82d54b779c861b02d67d71dc"
            ],
            "layout": "IPY_MODEL_04c3350d3b0c4ae9b9da607775736b15"
          }
        },
        "558156e9e7734a63ad7283634a4b421d": {
          "model_module": "@jupyter-widgets/controls",
          "model_name": "HTMLModel",
          "model_module_version": "1.5.0",
          "state": {
            "_dom_classes": [],
            "_model_module": "@jupyter-widgets/controls",
            "_model_module_version": "1.5.0",
            "_model_name": "HTMLModel",
            "_view_count": null,
            "_view_module": "@jupyter-widgets/controls",
            "_view_module_version": "1.5.0",
            "_view_name": "HTMLView",
            "description": "",
            "description_tooltip": null,
            "layout": "IPY_MODEL_a15799d11a444529ac16f53322a58cde",
            "placeholder": "​",
            "style": "IPY_MODEL_def45e7b317348bfb133ace9c11612f5",
            "value": "config.json: 100%"
          }
        },
        "70f552f95acb4dbdbe53dbdb078833ff": {
          "model_module": "@jupyter-widgets/controls",
          "model_name": "FloatProgressModel",
          "model_module_version": "1.5.0",
          "state": {
            "_dom_classes": [],
            "_model_module": "@jupyter-widgets/controls",
            "_model_module_version": "1.5.0",
            "_model_name": "FloatProgressModel",
            "_view_count": null,
            "_view_module": "@jupyter-widgets/controls",
            "_view_module_version": "1.5.0",
            "_view_name": "ProgressView",
            "bar_style": "success",
            "description": "",
            "description_tooltip": null,
            "layout": "IPY_MODEL_dcc37e77624e4747a3a331dc63b44f80",
            "max": 1154,
            "min": 0,
            "orientation": "horizontal",
            "style": "IPY_MODEL_f0f734007f564213b0faedc4de717767",
            "value": 1154
          }
        },
        "c357a8ac82d54b779c861b02d67d71dc": {
          "model_module": "@jupyter-widgets/controls",
          "model_name": "HTMLModel",
          "model_module_version": "1.5.0",
          "state": {
            "_dom_classes": [],
            "_model_module": "@jupyter-widgets/controls",
            "_model_module_version": "1.5.0",
            "_model_name": "HTMLModel",
            "_view_count": null,
            "_view_module": "@jupyter-widgets/controls",
            "_view_module_version": "1.5.0",
            "_view_name": "HTMLView",
            "description": "",
            "description_tooltip": null,
            "layout": "IPY_MODEL_36647ea768b9420aa703a1a5fb4fc9bc",
            "placeholder": "​",
            "style": "IPY_MODEL_c444a7cf9c674efa8eb6ec8bf5688ff7",
            "value": " 1.15k/1.15k [00:00&lt;00:00, 61.3kB/s]"
          }
        },
        "04c3350d3b0c4ae9b9da607775736b15": {
          "model_module": "@jupyter-widgets/base",
          "model_name": "LayoutModel",
          "model_module_version": "1.2.0",
          "state": {
            "_model_module": "@jupyter-widgets/base",
            "_model_module_version": "1.2.0",
            "_model_name": "LayoutModel",
            "_view_count": null,
            "_view_module": "@jupyter-widgets/base",
            "_view_module_version": "1.2.0",
            "_view_name": "LayoutView",
            "align_content": null,
            "align_items": null,
            "align_self": null,
            "border": null,
            "bottom": null,
            "display": null,
            "flex": null,
            "flex_flow": null,
            "grid_area": null,
            "grid_auto_columns": null,
            "grid_auto_flow": null,
            "grid_auto_rows": null,
            "grid_column": null,
            "grid_gap": null,
            "grid_row": null,
            "grid_template_areas": null,
            "grid_template_columns": null,
            "grid_template_rows": null,
            "height": null,
            "justify_content": null,
            "justify_items": null,
            "left": null,
            "margin": null,
            "max_height": null,
            "max_width": null,
            "min_height": null,
            "min_width": null,
            "object_fit": null,
            "object_position": null,
            "order": null,
            "overflow": null,
            "overflow_x": null,
            "overflow_y": null,
            "padding": null,
            "right": null,
            "top": null,
            "visibility": null,
            "width": null
          }
        },
        "a15799d11a444529ac16f53322a58cde": {
          "model_module": "@jupyter-widgets/base",
          "model_name": "LayoutModel",
          "model_module_version": "1.2.0",
          "state": {
            "_model_module": "@jupyter-widgets/base",
            "_model_module_version": "1.2.0",
            "_model_name": "LayoutModel",
            "_view_count": null,
            "_view_module": "@jupyter-widgets/base",
            "_view_module_version": "1.2.0",
            "_view_name": "LayoutView",
            "align_content": null,
            "align_items": null,
            "align_self": null,
            "border": null,
            "bottom": null,
            "display": null,
            "flex": null,
            "flex_flow": null,
            "grid_area": null,
            "grid_auto_columns": null,
            "grid_auto_flow": null,
            "grid_auto_rows": null,
            "grid_column": null,
            "grid_gap": null,
            "grid_row": null,
            "grid_template_areas": null,
            "grid_template_columns": null,
            "grid_template_rows": null,
            "height": null,
            "justify_content": null,
            "justify_items": null,
            "left": null,
            "margin": null,
            "max_height": null,
            "max_width": null,
            "min_height": null,
            "min_width": null,
            "object_fit": null,
            "object_position": null,
            "order": null,
            "overflow": null,
            "overflow_x": null,
            "overflow_y": null,
            "padding": null,
            "right": null,
            "top": null,
            "visibility": null,
            "width": null
          }
        },
        "def45e7b317348bfb133ace9c11612f5": {
          "model_module": "@jupyter-widgets/controls",
          "model_name": "DescriptionStyleModel",
          "model_module_version": "1.5.0",
          "state": {
            "_model_module": "@jupyter-widgets/controls",
            "_model_module_version": "1.5.0",
            "_model_name": "DescriptionStyleModel",
            "_view_count": null,
            "_view_module": "@jupyter-widgets/base",
            "_view_module_version": "1.2.0",
            "_view_name": "StyleView",
            "description_width": ""
          }
        },
        "dcc37e77624e4747a3a331dc63b44f80": {
          "model_module": "@jupyter-widgets/base",
          "model_name": "LayoutModel",
          "model_module_version": "1.2.0",
          "state": {
            "_model_module": "@jupyter-widgets/base",
            "_model_module_version": "1.2.0",
            "_model_name": "LayoutModel",
            "_view_count": null,
            "_view_module": "@jupyter-widgets/base",
            "_view_module_version": "1.2.0",
            "_view_name": "LayoutView",
            "align_content": null,
            "align_items": null,
            "align_self": null,
            "border": null,
            "bottom": null,
            "display": null,
            "flex": null,
            "flex_flow": null,
            "grid_area": null,
            "grid_auto_columns": null,
            "grid_auto_flow": null,
            "grid_auto_rows": null,
            "grid_column": null,
            "grid_gap": null,
            "grid_row": null,
            "grid_template_areas": null,
            "grid_template_columns": null,
            "grid_template_rows": null,
            "height": null,
            "justify_content": null,
            "justify_items": null,
            "left": null,
            "margin": null,
            "max_height": null,
            "max_width": null,
            "min_height": null,
            "min_width": null,
            "object_fit": null,
            "object_position": null,
            "order": null,
            "overflow": null,
            "overflow_x": null,
            "overflow_y": null,
            "padding": null,
            "right": null,
            "top": null,
            "visibility": null,
            "width": null
          }
        },
        "f0f734007f564213b0faedc4de717767": {
          "model_module": "@jupyter-widgets/controls",
          "model_name": "ProgressStyleModel",
          "model_module_version": "1.5.0",
          "state": {
            "_model_module": "@jupyter-widgets/controls",
            "_model_module_version": "1.5.0",
            "_model_name": "ProgressStyleModel",
            "_view_count": null,
            "_view_module": "@jupyter-widgets/base",
            "_view_module_version": "1.2.0",
            "_view_name": "StyleView",
            "bar_color": null,
            "description_width": ""
          }
        },
        "36647ea768b9420aa703a1a5fb4fc9bc": {
          "model_module": "@jupyter-widgets/base",
          "model_name": "LayoutModel",
          "model_module_version": "1.2.0",
          "state": {
            "_model_module": "@jupyter-widgets/base",
            "_model_module_version": "1.2.0",
            "_model_name": "LayoutModel",
            "_view_count": null,
            "_view_module": "@jupyter-widgets/base",
            "_view_module_version": "1.2.0",
            "_view_name": "LayoutView",
            "align_content": null,
            "align_items": null,
            "align_self": null,
            "border": null,
            "bottom": null,
            "display": null,
            "flex": null,
            "flex_flow": null,
            "grid_area": null,
            "grid_auto_columns": null,
            "grid_auto_flow": null,
            "grid_auto_rows": null,
            "grid_column": null,
            "grid_gap": null,
            "grid_row": null,
            "grid_template_areas": null,
            "grid_template_columns": null,
            "grid_template_rows": null,
            "height": null,
            "justify_content": null,
            "justify_items": null,
            "left": null,
            "margin": null,
            "max_height": null,
            "max_width": null,
            "min_height": null,
            "min_width": null,
            "object_fit": null,
            "object_position": null,
            "order": null,
            "overflow": null,
            "overflow_x": null,
            "overflow_y": null,
            "padding": null,
            "right": null,
            "top": null,
            "visibility": null,
            "width": null
          }
        },
        "c444a7cf9c674efa8eb6ec8bf5688ff7": {
          "model_module": "@jupyter-widgets/controls",
          "model_name": "DescriptionStyleModel",
          "model_module_version": "1.5.0",
          "state": {
            "_model_module": "@jupyter-widgets/controls",
            "_model_module_version": "1.5.0",
            "_model_name": "DescriptionStyleModel",
            "_view_count": null,
            "_view_module": "@jupyter-widgets/base",
            "_view_module_version": "1.2.0",
            "_view_name": "StyleView",
            "description_width": ""
          }
        },
        "fe9c84b33eb8481ab5ac340fd06befc4": {
          "model_module": "@jupyter-widgets/controls",
          "model_name": "HBoxModel",
          "model_module_version": "1.5.0",
          "state": {
            "_dom_classes": [],
            "_model_module": "@jupyter-widgets/controls",
            "_model_module_version": "1.5.0",
            "_model_name": "HBoxModel",
            "_view_count": null,
            "_view_module": "@jupyter-widgets/controls",
            "_view_module_version": "1.5.0",
            "_view_name": "HBoxView",
            "box_style": "",
            "children": [
              "IPY_MODEL_1ecf094867c2457f811d2a5ca6cf32a3",
              "IPY_MODEL_bbd21e4290434314afbac6a5697bda15",
              "IPY_MODEL_0a8b1f142e184bbdb4c1d454def4d29e"
            ],
            "layout": "IPY_MODEL_98ab87f23d254a8ab3e078ed92eb1dd4"
          }
        },
        "1ecf094867c2457f811d2a5ca6cf32a3": {
          "model_module": "@jupyter-widgets/controls",
          "model_name": "HTMLModel",
          "model_module_version": "1.5.0",
          "state": {
            "_dom_classes": [],
            "_model_module": "@jupyter-widgets/controls",
            "_model_module_version": "1.5.0",
            "_model_name": "HTMLModel",
            "_view_count": null,
            "_view_module": "@jupyter-widgets/controls",
            "_view_module_version": "1.5.0",
            "_view_name": "HTMLView",
            "description": "",
            "description_tooltip": null,
            "layout": "IPY_MODEL_33bcc3a87d11464ebb435d184ba458d9",
            "placeholder": "​",
            "style": "IPY_MODEL_2eb131ce094e4c20ad5eef04e915d32c",
            "value": "model.safetensors: 100%"
          }
        },
        "bbd21e4290434314afbac6a5697bda15": {
          "model_module": "@jupyter-widgets/controls",
          "model_name": "FloatProgressModel",
          "model_module_version": "1.5.0",
          "state": {
            "_dom_classes": [],
            "_model_module": "@jupyter-widgets/controls",
            "_model_module_version": "1.5.0",
            "_model_name": "FloatProgressModel",
            "_view_count": null,
            "_view_module": "@jupyter-widgets/controls",
            "_view_module_version": "1.5.0",
            "_view_name": "ProgressView",
            "bar_style": "success",
            "description": "",
            "description_tooltip": null,
            "layout": "IPY_MODEL_17d0faa20f0c446c9e887e4d74699ac7",
            "max": 1629437147,
            "min": 0,
            "orientation": "horizontal",
            "style": "IPY_MODEL_ad5ef14798f449b29a2f36de57c9fbcf",
            "value": 1629437147
          }
        },
        "0a8b1f142e184bbdb4c1d454def4d29e": {
          "model_module": "@jupyter-widgets/controls",
          "model_name": "HTMLModel",
          "model_module_version": "1.5.0",
          "state": {
            "_dom_classes": [],
            "_model_module": "@jupyter-widgets/controls",
            "_model_module_version": "1.5.0",
            "_model_name": "HTMLModel",
            "_view_count": null,
            "_view_module": "@jupyter-widgets/controls",
            "_view_module_version": "1.5.0",
            "_view_name": "HTMLView",
            "description": "",
            "description_tooltip": null,
            "layout": "IPY_MODEL_37d45c9b46ca44239c412f06cfca0b0c",
            "placeholder": "​",
            "style": "IPY_MODEL_8d76421b9c7048098d38ed7caa767f42",
            "value": " 1.63G/1.63G [00:20&lt;00:00, 131MB/s]"
          }
        },
        "98ab87f23d254a8ab3e078ed92eb1dd4": {
          "model_module": "@jupyter-widgets/base",
          "model_name": "LayoutModel",
          "model_module_version": "1.2.0",
          "state": {
            "_model_module": "@jupyter-widgets/base",
            "_model_module_version": "1.2.0",
            "_model_name": "LayoutModel",
            "_view_count": null,
            "_view_module": "@jupyter-widgets/base",
            "_view_module_version": "1.2.0",
            "_view_name": "LayoutView",
            "align_content": null,
            "align_items": null,
            "align_self": null,
            "border": null,
            "bottom": null,
            "display": null,
            "flex": null,
            "flex_flow": null,
            "grid_area": null,
            "grid_auto_columns": null,
            "grid_auto_flow": null,
            "grid_auto_rows": null,
            "grid_column": null,
            "grid_gap": null,
            "grid_row": null,
            "grid_template_areas": null,
            "grid_template_columns": null,
            "grid_template_rows": null,
            "height": null,
            "justify_content": null,
            "justify_items": null,
            "left": null,
            "margin": null,
            "max_height": null,
            "max_width": null,
            "min_height": null,
            "min_width": null,
            "object_fit": null,
            "object_position": null,
            "order": null,
            "overflow": null,
            "overflow_x": null,
            "overflow_y": null,
            "padding": null,
            "right": null,
            "top": null,
            "visibility": null,
            "width": null
          }
        },
        "33bcc3a87d11464ebb435d184ba458d9": {
          "model_module": "@jupyter-widgets/base",
          "model_name": "LayoutModel",
          "model_module_version": "1.2.0",
          "state": {
            "_model_module": "@jupyter-widgets/base",
            "_model_module_version": "1.2.0",
            "_model_name": "LayoutModel",
            "_view_count": null,
            "_view_module": "@jupyter-widgets/base",
            "_view_module_version": "1.2.0",
            "_view_name": "LayoutView",
            "align_content": null,
            "align_items": null,
            "align_self": null,
            "border": null,
            "bottom": null,
            "display": null,
            "flex": null,
            "flex_flow": null,
            "grid_area": null,
            "grid_auto_columns": null,
            "grid_auto_flow": null,
            "grid_auto_rows": null,
            "grid_column": null,
            "grid_gap": null,
            "grid_row": null,
            "grid_template_areas": null,
            "grid_template_columns": null,
            "grid_template_rows": null,
            "height": null,
            "justify_content": null,
            "justify_items": null,
            "left": null,
            "margin": null,
            "max_height": null,
            "max_width": null,
            "min_height": null,
            "min_width": null,
            "object_fit": null,
            "object_position": null,
            "order": null,
            "overflow": null,
            "overflow_x": null,
            "overflow_y": null,
            "padding": null,
            "right": null,
            "top": null,
            "visibility": null,
            "width": null
          }
        },
        "2eb131ce094e4c20ad5eef04e915d32c": {
          "model_module": "@jupyter-widgets/controls",
          "model_name": "DescriptionStyleModel",
          "model_module_version": "1.5.0",
          "state": {
            "_model_module": "@jupyter-widgets/controls",
            "_model_module_version": "1.5.0",
            "_model_name": "DescriptionStyleModel",
            "_view_count": null,
            "_view_module": "@jupyter-widgets/base",
            "_view_module_version": "1.2.0",
            "_view_name": "StyleView",
            "description_width": ""
          }
        },
        "17d0faa20f0c446c9e887e4d74699ac7": {
          "model_module": "@jupyter-widgets/base",
          "model_name": "LayoutModel",
          "model_module_version": "1.2.0",
          "state": {
            "_model_module": "@jupyter-widgets/base",
            "_model_module_version": "1.2.0",
            "_model_name": "LayoutModel",
            "_view_count": null,
            "_view_module": "@jupyter-widgets/base",
            "_view_module_version": "1.2.0",
            "_view_name": "LayoutView",
            "align_content": null,
            "align_items": null,
            "align_self": null,
            "border": null,
            "bottom": null,
            "display": null,
            "flex": null,
            "flex_flow": null,
            "grid_area": null,
            "grid_auto_columns": null,
            "grid_auto_flow": null,
            "grid_auto_rows": null,
            "grid_column": null,
            "grid_gap": null,
            "grid_row": null,
            "grid_template_areas": null,
            "grid_template_columns": null,
            "grid_template_rows": null,
            "height": null,
            "justify_content": null,
            "justify_items": null,
            "left": null,
            "margin": null,
            "max_height": null,
            "max_width": null,
            "min_height": null,
            "min_width": null,
            "object_fit": null,
            "object_position": null,
            "order": null,
            "overflow": null,
            "overflow_x": null,
            "overflow_y": null,
            "padding": null,
            "right": null,
            "top": null,
            "visibility": null,
            "width": null
          }
        },
        "ad5ef14798f449b29a2f36de57c9fbcf": {
          "model_module": "@jupyter-widgets/controls",
          "model_name": "ProgressStyleModel",
          "model_module_version": "1.5.0",
          "state": {
            "_model_module": "@jupyter-widgets/controls",
            "_model_module_version": "1.5.0",
            "_model_name": "ProgressStyleModel",
            "_view_count": null,
            "_view_module": "@jupyter-widgets/base",
            "_view_module_version": "1.2.0",
            "_view_name": "StyleView",
            "bar_color": null,
            "description_width": ""
          }
        },
        "37d45c9b46ca44239c412f06cfca0b0c": {
          "model_module": "@jupyter-widgets/base",
          "model_name": "LayoutModel",
          "model_module_version": "1.2.0",
          "state": {
            "_model_module": "@jupyter-widgets/base",
            "_model_module_version": "1.2.0",
            "_model_name": "LayoutModel",
            "_view_count": null,
            "_view_module": "@jupyter-widgets/base",
            "_view_module_version": "1.2.0",
            "_view_name": "LayoutView",
            "align_content": null,
            "align_items": null,
            "align_self": null,
            "border": null,
            "bottom": null,
            "display": null,
            "flex": null,
            "flex_flow": null,
            "grid_area": null,
            "grid_auto_columns": null,
            "grid_auto_flow": null,
            "grid_auto_rows": null,
            "grid_column": null,
            "grid_gap": null,
            "grid_row": null,
            "grid_template_areas": null,
            "grid_template_columns": null,
            "grid_template_rows": null,
            "height": null,
            "justify_content": null,
            "justify_items": null,
            "left": null,
            "margin": null,
            "max_height": null,
            "max_width": null,
            "min_height": null,
            "min_width": null,
            "object_fit": null,
            "object_position": null,
            "order": null,
            "overflow": null,
            "overflow_x": null,
            "overflow_y": null,
            "padding": null,
            "right": null,
            "top": null,
            "visibility": null,
            "width": null
          }
        },
        "8d76421b9c7048098d38ed7caa767f42": {
          "model_module": "@jupyter-widgets/controls",
          "model_name": "DescriptionStyleModel",
          "model_module_version": "1.5.0",
          "state": {
            "_model_module": "@jupyter-widgets/controls",
            "_model_module_version": "1.5.0",
            "_model_name": "DescriptionStyleModel",
            "_view_count": null,
            "_view_module": "@jupyter-widgets/base",
            "_view_module_version": "1.2.0",
            "_view_name": "StyleView",
            "description_width": ""
          }
        },
        "57aac74f22e54cb19fde67cae4272fc9": {
          "model_module": "@jupyter-widgets/controls",
          "model_name": "HBoxModel",
          "model_module_version": "1.5.0",
          "state": {
            "_dom_classes": [],
            "_model_module": "@jupyter-widgets/controls",
            "_model_module_version": "1.5.0",
            "_model_name": "HBoxModel",
            "_view_count": null,
            "_view_module": "@jupyter-widgets/controls",
            "_view_module_version": "1.5.0",
            "_view_name": "HBoxView",
            "box_style": "",
            "children": [
              "IPY_MODEL_469f761f1758400bad1e003f0b3a22c6",
              "IPY_MODEL_e2037d76d3b747a2964adbddf300224e",
              "IPY_MODEL_ecba02e4df3345c2b1821cb91a4200af"
            ],
            "layout": "IPY_MODEL_e29498bdc6b5428e896647517fb2a2cc"
          }
        },
        "469f761f1758400bad1e003f0b3a22c6": {
          "model_module": "@jupyter-widgets/controls",
          "model_name": "HTMLModel",
          "model_module_version": "1.5.0",
          "state": {
            "_dom_classes": [],
            "_model_module": "@jupyter-widgets/controls",
            "_model_module_version": "1.5.0",
            "_model_name": "HTMLModel",
            "_view_count": null,
            "_view_module": "@jupyter-widgets/controls",
            "_view_module_version": "1.5.0",
            "_view_name": "HTMLView",
            "description": "",
            "description_tooltip": null,
            "layout": "IPY_MODEL_050d12877e084432aa8f282d17944472",
            "placeholder": "​",
            "style": "IPY_MODEL_9a20901ad097486fbfc523040c8459e8",
            "value": "tokenizer_config.json: 100%"
          }
        },
        "e2037d76d3b747a2964adbddf300224e": {
          "model_module": "@jupyter-widgets/controls",
          "model_name": "FloatProgressModel",
          "model_module_version": "1.5.0",
          "state": {
            "_dom_classes": [],
            "_model_module": "@jupyter-widgets/controls",
            "_model_module_version": "1.5.0",
            "_model_name": "FloatProgressModel",
            "_view_count": null,
            "_view_module": "@jupyter-widgets/controls",
            "_view_module_version": "1.5.0",
            "_view_name": "ProgressView",
            "bar_style": "success",
            "description": "",
            "description_tooltip": null,
            "layout": "IPY_MODEL_082701e6689e4aa886a01b98c3c62938",
            "max": 26,
            "min": 0,
            "orientation": "horizontal",
            "style": "IPY_MODEL_38be47df2d0c4c43bccc5c781af54ffc",
            "value": 26
          }
        },
        "ecba02e4df3345c2b1821cb91a4200af": {
          "model_module": "@jupyter-widgets/controls",
          "model_name": "HTMLModel",
          "model_module_version": "1.5.0",
          "state": {
            "_dom_classes": [],
            "_model_module": "@jupyter-widgets/controls",
            "_model_module_version": "1.5.0",
            "_model_name": "HTMLModel",
            "_view_count": null,
            "_view_module": "@jupyter-widgets/controls",
            "_view_module_version": "1.5.0",
            "_view_name": "HTMLView",
            "description": "",
            "description_tooltip": null,
            "layout": "IPY_MODEL_65de3cd2f7414cad9927d46e9324d0d1",
            "placeholder": "​",
            "style": "IPY_MODEL_ab40b28f6129471dab14f5f9b4d9ef3c",
            "value": " 26.0/26.0 [00:00&lt;00:00, 891B/s]"
          }
        },
        "e29498bdc6b5428e896647517fb2a2cc": {
          "model_module": "@jupyter-widgets/base",
          "model_name": "LayoutModel",
          "model_module_version": "1.2.0",
          "state": {
            "_model_module": "@jupyter-widgets/base",
            "_model_module_version": "1.2.0",
            "_model_name": "LayoutModel",
            "_view_count": null,
            "_view_module": "@jupyter-widgets/base",
            "_view_module_version": "1.2.0",
            "_view_name": "LayoutView",
            "align_content": null,
            "align_items": null,
            "align_self": null,
            "border": null,
            "bottom": null,
            "display": null,
            "flex": null,
            "flex_flow": null,
            "grid_area": null,
            "grid_auto_columns": null,
            "grid_auto_flow": null,
            "grid_auto_rows": null,
            "grid_column": null,
            "grid_gap": null,
            "grid_row": null,
            "grid_template_areas": null,
            "grid_template_columns": null,
            "grid_template_rows": null,
            "height": null,
            "justify_content": null,
            "justify_items": null,
            "left": null,
            "margin": null,
            "max_height": null,
            "max_width": null,
            "min_height": null,
            "min_width": null,
            "object_fit": null,
            "object_position": null,
            "order": null,
            "overflow": null,
            "overflow_x": null,
            "overflow_y": null,
            "padding": null,
            "right": null,
            "top": null,
            "visibility": null,
            "width": null
          }
        },
        "050d12877e084432aa8f282d17944472": {
          "model_module": "@jupyter-widgets/base",
          "model_name": "LayoutModel",
          "model_module_version": "1.2.0",
          "state": {
            "_model_module": "@jupyter-widgets/base",
            "_model_module_version": "1.2.0",
            "_model_name": "LayoutModel",
            "_view_count": null,
            "_view_module": "@jupyter-widgets/base",
            "_view_module_version": "1.2.0",
            "_view_name": "LayoutView",
            "align_content": null,
            "align_items": null,
            "align_self": null,
            "border": null,
            "bottom": null,
            "display": null,
            "flex": null,
            "flex_flow": null,
            "grid_area": null,
            "grid_auto_columns": null,
            "grid_auto_flow": null,
            "grid_auto_rows": null,
            "grid_column": null,
            "grid_gap": null,
            "grid_row": null,
            "grid_template_areas": null,
            "grid_template_columns": null,
            "grid_template_rows": null,
            "height": null,
            "justify_content": null,
            "justify_items": null,
            "left": null,
            "margin": null,
            "max_height": null,
            "max_width": null,
            "min_height": null,
            "min_width": null,
            "object_fit": null,
            "object_position": null,
            "order": null,
            "overflow": null,
            "overflow_x": null,
            "overflow_y": null,
            "padding": null,
            "right": null,
            "top": null,
            "visibility": null,
            "width": null
          }
        },
        "9a20901ad097486fbfc523040c8459e8": {
          "model_module": "@jupyter-widgets/controls",
          "model_name": "DescriptionStyleModel",
          "model_module_version": "1.5.0",
          "state": {
            "_model_module": "@jupyter-widgets/controls",
            "_model_module_version": "1.5.0",
            "_model_name": "DescriptionStyleModel",
            "_view_count": null,
            "_view_module": "@jupyter-widgets/base",
            "_view_module_version": "1.2.0",
            "_view_name": "StyleView",
            "description_width": ""
          }
        },
        "082701e6689e4aa886a01b98c3c62938": {
          "model_module": "@jupyter-widgets/base",
          "model_name": "LayoutModel",
          "model_module_version": "1.2.0",
          "state": {
            "_model_module": "@jupyter-widgets/base",
            "_model_module_version": "1.2.0",
            "_model_name": "LayoutModel",
            "_view_count": null,
            "_view_module": "@jupyter-widgets/base",
            "_view_module_version": "1.2.0",
            "_view_name": "LayoutView",
            "align_content": null,
            "align_items": null,
            "align_self": null,
            "border": null,
            "bottom": null,
            "display": null,
            "flex": null,
            "flex_flow": null,
            "grid_area": null,
            "grid_auto_columns": null,
            "grid_auto_flow": null,
            "grid_auto_rows": null,
            "grid_column": null,
            "grid_gap": null,
            "grid_row": null,
            "grid_template_areas": null,
            "grid_template_columns": null,
            "grid_template_rows": null,
            "height": null,
            "justify_content": null,
            "justify_items": null,
            "left": null,
            "margin": null,
            "max_height": null,
            "max_width": null,
            "min_height": null,
            "min_width": null,
            "object_fit": null,
            "object_position": null,
            "order": null,
            "overflow": null,
            "overflow_x": null,
            "overflow_y": null,
            "padding": null,
            "right": null,
            "top": null,
            "visibility": null,
            "width": null
          }
        },
        "38be47df2d0c4c43bccc5c781af54ffc": {
          "model_module": "@jupyter-widgets/controls",
          "model_name": "ProgressStyleModel",
          "model_module_version": "1.5.0",
          "state": {
            "_model_module": "@jupyter-widgets/controls",
            "_model_module_version": "1.5.0",
            "_model_name": "ProgressStyleModel",
            "_view_count": null,
            "_view_module": "@jupyter-widgets/base",
            "_view_module_version": "1.2.0",
            "_view_name": "StyleView",
            "bar_color": null,
            "description_width": ""
          }
        },
        "65de3cd2f7414cad9927d46e9324d0d1": {
          "model_module": "@jupyter-widgets/base",
          "model_name": "LayoutModel",
          "model_module_version": "1.2.0",
          "state": {
            "_model_module": "@jupyter-widgets/base",
            "_model_module_version": "1.2.0",
            "_model_name": "LayoutModel",
            "_view_count": null,
            "_view_module": "@jupyter-widgets/base",
            "_view_module_version": "1.2.0",
            "_view_name": "LayoutView",
            "align_content": null,
            "align_items": null,
            "align_self": null,
            "border": null,
            "bottom": null,
            "display": null,
            "flex": null,
            "flex_flow": null,
            "grid_area": null,
            "grid_auto_columns": null,
            "grid_auto_flow": null,
            "grid_auto_rows": null,
            "grid_column": null,
            "grid_gap": null,
            "grid_row": null,
            "grid_template_areas": null,
            "grid_template_columns": null,
            "grid_template_rows": null,
            "height": null,
            "justify_content": null,
            "justify_items": null,
            "left": null,
            "margin": null,
            "max_height": null,
            "max_width": null,
            "min_height": null,
            "min_width": null,
            "object_fit": null,
            "object_position": null,
            "order": null,
            "overflow": null,
            "overflow_x": null,
            "overflow_y": null,
            "padding": null,
            "right": null,
            "top": null,
            "visibility": null,
            "width": null
          }
        },
        "ab40b28f6129471dab14f5f9b4d9ef3c": {
          "model_module": "@jupyter-widgets/controls",
          "model_name": "DescriptionStyleModel",
          "model_module_version": "1.5.0",
          "state": {
            "_model_module": "@jupyter-widgets/controls",
            "_model_module_version": "1.5.0",
            "_model_name": "DescriptionStyleModel",
            "_view_count": null,
            "_view_module": "@jupyter-widgets/base",
            "_view_module_version": "1.2.0",
            "_view_name": "StyleView",
            "description_width": ""
          }
        },
        "be9e144954bd4c33ac55069770f4ad35": {
          "model_module": "@jupyter-widgets/controls",
          "model_name": "HBoxModel",
          "model_module_version": "1.5.0",
          "state": {
            "_dom_classes": [],
            "_model_module": "@jupyter-widgets/controls",
            "_model_module_version": "1.5.0",
            "_model_name": "HBoxModel",
            "_view_count": null,
            "_view_module": "@jupyter-widgets/controls",
            "_view_module_version": "1.5.0",
            "_view_name": "HBoxView",
            "box_style": "",
            "children": [
              "IPY_MODEL_5d99b5c2472d46d1939fe5697b74dc46",
              "IPY_MODEL_47bb7c115479421e8d79725537132653",
              "IPY_MODEL_9c4585ca98824673b7eb2d7f5edbec52"
            ],
            "layout": "IPY_MODEL_b81060b8007540df9c5fa69658af5d5a"
          }
        },
        "5d99b5c2472d46d1939fe5697b74dc46": {
          "model_module": "@jupyter-widgets/controls",
          "model_name": "HTMLModel",
          "model_module_version": "1.5.0",
          "state": {
            "_dom_classes": [],
            "_model_module": "@jupyter-widgets/controls",
            "_model_module_version": "1.5.0",
            "_model_name": "HTMLModel",
            "_view_count": null,
            "_view_module": "@jupyter-widgets/controls",
            "_view_module_version": "1.5.0",
            "_view_name": "HTMLView",
            "description": "",
            "description_tooltip": null,
            "layout": "IPY_MODEL_a3393edbcbf2421082c722c4146582ae",
            "placeholder": "​",
            "style": "IPY_MODEL_c8992cc5d84047b8911bc9619790f426",
            "value": "vocab.json: 100%"
          }
        },
        "47bb7c115479421e8d79725537132653": {
          "model_module": "@jupyter-widgets/controls",
          "model_name": "FloatProgressModel",
          "model_module_version": "1.5.0",
          "state": {
            "_dom_classes": [],
            "_model_module": "@jupyter-widgets/controls",
            "_model_module_version": "1.5.0",
            "_model_name": "FloatProgressModel",
            "_view_count": null,
            "_view_module": "@jupyter-widgets/controls",
            "_view_module_version": "1.5.0",
            "_view_name": "ProgressView",
            "bar_style": "success",
            "description": "",
            "description_tooltip": null,
            "layout": "IPY_MODEL_3a9ed5fed0a349ce933cb6028b03bbce",
            "max": 898822,
            "min": 0,
            "orientation": "horizontal",
            "style": "IPY_MODEL_7a34fb5adca5427393ea698eca8956d4",
            "value": 898822
          }
        },
        "9c4585ca98824673b7eb2d7f5edbec52": {
          "model_module": "@jupyter-widgets/controls",
          "model_name": "HTMLModel",
          "model_module_version": "1.5.0",
          "state": {
            "_dom_classes": [],
            "_model_module": "@jupyter-widgets/controls",
            "_model_module_version": "1.5.0",
            "_model_name": "HTMLModel",
            "_view_count": null,
            "_view_module": "@jupyter-widgets/controls",
            "_view_module_version": "1.5.0",
            "_view_name": "HTMLView",
            "description": "",
            "description_tooltip": null,
            "layout": "IPY_MODEL_37b3504aefcc412dae8158f659c2bd9a",
            "placeholder": "​",
            "style": "IPY_MODEL_ab99ea02793244268bf1d55e26687583",
            "value": " 899k/899k [00:00&lt;00:00, 5.92MB/s]"
          }
        },
        "b81060b8007540df9c5fa69658af5d5a": {
          "model_module": "@jupyter-widgets/base",
          "model_name": "LayoutModel",
          "model_module_version": "1.2.0",
          "state": {
            "_model_module": "@jupyter-widgets/base",
            "_model_module_version": "1.2.0",
            "_model_name": "LayoutModel",
            "_view_count": null,
            "_view_module": "@jupyter-widgets/base",
            "_view_module_version": "1.2.0",
            "_view_name": "LayoutView",
            "align_content": null,
            "align_items": null,
            "align_self": null,
            "border": null,
            "bottom": null,
            "display": null,
            "flex": null,
            "flex_flow": null,
            "grid_area": null,
            "grid_auto_columns": null,
            "grid_auto_flow": null,
            "grid_auto_rows": null,
            "grid_column": null,
            "grid_gap": null,
            "grid_row": null,
            "grid_template_areas": null,
            "grid_template_columns": null,
            "grid_template_rows": null,
            "height": null,
            "justify_content": null,
            "justify_items": null,
            "left": null,
            "margin": null,
            "max_height": null,
            "max_width": null,
            "min_height": null,
            "min_width": null,
            "object_fit": null,
            "object_position": null,
            "order": null,
            "overflow": null,
            "overflow_x": null,
            "overflow_y": null,
            "padding": null,
            "right": null,
            "top": null,
            "visibility": null,
            "width": null
          }
        },
        "a3393edbcbf2421082c722c4146582ae": {
          "model_module": "@jupyter-widgets/base",
          "model_name": "LayoutModel",
          "model_module_version": "1.2.0",
          "state": {
            "_model_module": "@jupyter-widgets/base",
            "_model_module_version": "1.2.0",
            "_model_name": "LayoutModel",
            "_view_count": null,
            "_view_module": "@jupyter-widgets/base",
            "_view_module_version": "1.2.0",
            "_view_name": "LayoutView",
            "align_content": null,
            "align_items": null,
            "align_self": null,
            "border": null,
            "bottom": null,
            "display": null,
            "flex": null,
            "flex_flow": null,
            "grid_area": null,
            "grid_auto_columns": null,
            "grid_auto_flow": null,
            "grid_auto_rows": null,
            "grid_column": null,
            "grid_gap": null,
            "grid_row": null,
            "grid_template_areas": null,
            "grid_template_columns": null,
            "grid_template_rows": null,
            "height": null,
            "justify_content": null,
            "justify_items": null,
            "left": null,
            "margin": null,
            "max_height": null,
            "max_width": null,
            "min_height": null,
            "min_width": null,
            "object_fit": null,
            "object_position": null,
            "order": null,
            "overflow": null,
            "overflow_x": null,
            "overflow_y": null,
            "padding": null,
            "right": null,
            "top": null,
            "visibility": null,
            "width": null
          }
        },
        "c8992cc5d84047b8911bc9619790f426": {
          "model_module": "@jupyter-widgets/controls",
          "model_name": "DescriptionStyleModel",
          "model_module_version": "1.5.0",
          "state": {
            "_model_module": "@jupyter-widgets/controls",
            "_model_module_version": "1.5.0",
            "_model_name": "DescriptionStyleModel",
            "_view_count": null,
            "_view_module": "@jupyter-widgets/base",
            "_view_module_version": "1.2.0",
            "_view_name": "StyleView",
            "description_width": ""
          }
        },
        "3a9ed5fed0a349ce933cb6028b03bbce": {
          "model_module": "@jupyter-widgets/base",
          "model_name": "LayoutModel",
          "model_module_version": "1.2.0",
          "state": {
            "_model_module": "@jupyter-widgets/base",
            "_model_module_version": "1.2.0",
            "_model_name": "LayoutModel",
            "_view_count": null,
            "_view_module": "@jupyter-widgets/base",
            "_view_module_version": "1.2.0",
            "_view_name": "LayoutView",
            "align_content": null,
            "align_items": null,
            "align_self": null,
            "border": null,
            "bottom": null,
            "display": null,
            "flex": null,
            "flex_flow": null,
            "grid_area": null,
            "grid_auto_columns": null,
            "grid_auto_flow": null,
            "grid_auto_rows": null,
            "grid_column": null,
            "grid_gap": null,
            "grid_row": null,
            "grid_template_areas": null,
            "grid_template_columns": null,
            "grid_template_rows": null,
            "height": null,
            "justify_content": null,
            "justify_items": null,
            "left": null,
            "margin": null,
            "max_height": null,
            "max_width": null,
            "min_height": null,
            "min_width": null,
            "object_fit": null,
            "object_position": null,
            "order": null,
            "overflow": null,
            "overflow_x": null,
            "overflow_y": null,
            "padding": null,
            "right": null,
            "top": null,
            "visibility": null,
            "width": null
          }
        },
        "7a34fb5adca5427393ea698eca8956d4": {
          "model_module": "@jupyter-widgets/controls",
          "model_name": "ProgressStyleModel",
          "model_module_version": "1.5.0",
          "state": {
            "_model_module": "@jupyter-widgets/controls",
            "_model_module_version": "1.5.0",
            "_model_name": "ProgressStyleModel",
            "_view_count": null,
            "_view_module": "@jupyter-widgets/base",
            "_view_module_version": "1.2.0",
            "_view_name": "StyleView",
            "bar_color": null,
            "description_width": ""
          }
        },
        "37b3504aefcc412dae8158f659c2bd9a": {
          "model_module": "@jupyter-widgets/base",
          "model_name": "LayoutModel",
          "model_module_version": "1.2.0",
          "state": {
            "_model_module": "@jupyter-widgets/base",
            "_model_module_version": "1.2.0",
            "_model_name": "LayoutModel",
            "_view_count": null,
            "_view_module": "@jupyter-widgets/base",
            "_view_module_version": "1.2.0",
            "_view_name": "LayoutView",
            "align_content": null,
            "align_items": null,
            "align_self": null,
            "border": null,
            "bottom": null,
            "display": null,
            "flex": null,
            "flex_flow": null,
            "grid_area": null,
            "grid_auto_columns": null,
            "grid_auto_flow": null,
            "grid_auto_rows": null,
            "grid_column": null,
            "grid_gap": null,
            "grid_row": null,
            "grid_template_areas": null,
            "grid_template_columns": null,
            "grid_template_rows": null,
            "height": null,
            "justify_content": null,
            "justify_items": null,
            "left": null,
            "margin": null,
            "max_height": null,
            "max_width": null,
            "min_height": null,
            "min_width": null,
            "object_fit": null,
            "object_position": null,
            "order": null,
            "overflow": null,
            "overflow_x": null,
            "overflow_y": null,
            "padding": null,
            "right": null,
            "top": null,
            "visibility": null,
            "width": null
          }
        },
        "ab99ea02793244268bf1d55e26687583": {
          "model_module": "@jupyter-widgets/controls",
          "model_name": "DescriptionStyleModel",
          "model_module_version": "1.5.0",
          "state": {
            "_model_module": "@jupyter-widgets/controls",
            "_model_module_version": "1.5.0",
            "_model_name": "DescriptionStyleModel",
            "_view_count": null,
            "_view_module": "@jupyter-widgets/base",
            "_view_module_version": "1.2.0",
            "_view_name": "StyleView",
            "description_width": ""
          }
        },
        "198834ef88fe403badb61c730420d38c": {
          "model_module": "@jupyter-widgets/controls",
          "model_name": "HBoxModel",
          "model_module_version": "1.5.0",
          "state": {
            "_dom_classes": [],
            "_model_module": "@jupyter-widgets/controls",
            "_model_module_version": "1.5.0",
            "_model_name": "HBoxModel",
            "_view_count": null,
            "_view_module": "@jupyter-widgets/controls",
            "_view_module_version": "1.5.0",
            "_view_name": "HBoxView",
            "box_style": "",
            "children": [
              "IPY_MODEL_1d720dcaf10e4b4f8e31fa1ad403999b",
              "IPY_MODEL_9b5760d1f48146ffbdc6de69f9a33b71",
              "IPY_MODEL_4feddc938b7e48c8a639ec10b8707162"
            ],
            "layout": "IPY_MODEL_39659d1a67fb4a449f72537873101d85"
          }
        },
        "1d720dcaf10e4b4f8e31fa1ad403999b": {
          "model_module": "@jupyter-widgets/controls",
          "model_name": "HTMLModel",
          "model_module_version": "1.5.0",
          "state": {
            "_dom_classes": [],
            "_model_module": "@jupyter-widgets/controls",
            "_model_module_version": "1.5.0",
            "_model_name": "HTMLModel",
            "_view_count": null,
            "_view_module": "@jupyter-widgets/controls",
            "_view_module_version": "1.5.0",
            "_view_name": "HTMLView",
            "description": "",
            "description_tooltip": null,
            "layout": "IPY_MODEL_f2eeae58a33b4b67aab071e3419e93d6",
            "placeholder": "​",
            "style": "IPY_MODEL_6984725dd5fd4d5b97916563f8864bbf",
            "value": "merges.txt: 100%"
          }
        },
        "9b5760d1f48146ffbdc6de69f9a33b71": {
          "model_module": "@jupyter-widgets/controls",
          "model_name": "FloatProgressModel",
          "model_module_version": "1.5.0",
          "state": {
            "_dom_classes": [],
            "_model_module": "@jupyter-widgets/controls",
            "_model_module_version": "1.5.0",
            "_model_name": "FloatProgressModel",
            "_view_count": null,
            "_view_module": "@jupyter-widgets/controls",
            "_view_module_version": "1.5.0",
            "_view_name": "ProgressView",
            "bar_style": "success",
            "description": "",
            "description_tooltip": null,
            "layout": "IPY_MODEL_d4fffcfd34e54cfe93027d9d6eefa9c1",
            "max": 456318,
            "min": 0,
            "orientation": "horizontal",
            "style": "IPY_MODEL_51bbdba4e9e74d579fb067c47f68f359",
            "value": 456318
          }
        },
        "4feddc938b7e48c8a639ec10b8707162": {
          "model_module": "@jupyter-widgets/controls",
          "model_name": "HTMLModel",
          "model_module_version": "1.5.0",
          "state": {
            "_dom_classes": [],
            "_model_module": "@jupyter-widgets/controls",
            "_model_module_version": "1.5.0",
            "_model_name": "HTMLModel",
            "_view_count": null,
            "_view_module": "@jupyter-widgets/controls",
            "_view_module_version": "1.5.0",
            "_view_name": "HTMLView",
            "description": "",
            "description_tooltip": null,
            "layout": "IPY_MODEL_5d10c0e6304d41498638c2c15b5aea00",
            "placeholder": "​",
            "style": "IPY_MODEL_4c58d08cac244a36be346457dfe09bf2",
            "value": " 456k/456k [00:00&lt;00:00, 13.8MB/s]"
          }
        },
        "39659d1a67fb4a449f72537873101d85": {
          "model_module": "@jupyter-widgets/base",
          "model_name": "LayoutModel",
          "model_module_version": "1.2.0",
          "state": {
            "_model_module": "@jupyter-widgets/base",
            "_model_module_version": "1.2.0",
            "_model_name": "LayoutModel",
            "_view_count": null,
            "_view_module": "@jupyter-widgets/base",
            "_view_module_version": "1.2.0",
            "_view_name": "LayoutView",
            "align_content": null,
            "align_items": null,
            "align_self": null,
            "border": null,
            "bottom": null,
            "display": null,
            "flex": null,
            "flex_flow": null,
            "grid_area": null,
            "grid_auto_columns": null,
            "grid_auto_flow": null,
            "grid_auto_rows": null,
            "grid_column": null,
            "grid_gap": null,
            "grid_row": null,
            "grid_template_areas": null,
            "grid_template_columns": null,
            "grid_template_rows": null,
            "height": null,
            "justify_content": null,
            "justify_items": null,
            "left": null,
            "margin": null,
            "max_height": null,
            "max_width": null,
            "min_height": null,
            "min_width": null,
            "object_fit": null,
            "object_position": null,
            "order": null,
            "overflow": null,
            "overflow_x": null,
            "overflow_y": null,
            "padding": null,
            "right": null,
            "top": null,
            "visibility": null,
            "width": null
          }
        },
        "f2eeae58a33b4b67aab071e3419e93d6": {
          "model_module": "@jupyter-widgets/base",
          "model_name": "LayoutModel",
          "model_module_version": "1.2.0",
          "state": {
            "_model_module": "@jupyter-widgets/base",
            "_model_module_version": "1.2.0",
            "_model_name": "LayoutModel",
            "_view_count": null,
            "_view_module": "@jupyter-widgets/base",
            "_view_module_version": "1.2.0",
            "_view_name": "LayoutView",
            "align_content": null,
            "align_items": null,
            "align_self": null,
            "border": null,
            "bottom": null,
            "display": null,
            "flex": null,
            "flex_flow": null,
            "grid_area": null,
            "grid_auto_columns": null,
            "grid_auto_flow": null,
            "grid_auto_rows": null,
            "grid_column": null,
            "grid_gap": null,
            "grid_row": null,
            "grid_template_areas": null,
            "grid_template_columns": null,
            "grid_template_rows": null,
            "height": null,
            "justify_content": null,
            "justify_items": null,
            "left": null,
            "margin": null,
            "max_height": null,
            "max_width": null,
            "min_height": null,
            "min_width": null,
            "object_fit": null,
            "object_position": null,
            "order": null,
            "overflow": null,
            "overflow_x": null,
            "overflow_y": null,
            "padding": null,
            "right": null,
            "top": null,
            "visibility": null,
            "width": null
          }
        },
        "6984725dd5fd4d5b97916563f8864bbf": {
          "model_module": "@jupyter-widgets/controls",
          "model_name": "DescriptionStyleModel",
          "model_module_version": "1.5.0",
          "state": {
            "_model_module": "@jupyter-widgets/controls",
            "_model_module_version": "1.5.0",
            "_model_name": "DescriptionStyleModel",
            "_view_count": null,
            "_view_module": "@jupyter-widgets/base",
            "_view_module_version": "1.2.0",
            "_view_name": "StyleView",
            "description_width": ""
          }
        },
        "d4fffcfd34e54cfe93027d9d6eefa9c1": {
          "model_module": "@jupyter-widgets/base",
          "model_name": "LayoutModel",
          "model_module_version": "1.2.0",
          "state": {
            "_model_module": "@jupyter-widgets/base",
            "_model_module_version": "1.2.0",
            "_model_name": "LayoutModel",
            "_view_count": null,
            "_view_module": "@jupyter-widgets/base",
            "_view_module_version": "1.2.0",
            "_view_name": "LayoutView",
            "align_content": null,
            "align_items": null,
            "align_self": null,
            "border": null,
            "bottom": null,
            "display": null,
            "flex": null,
            "flex_flow": null,
            "grid_area": null,
            "grid_auto_columns": null,
            "grid_auto_flow": null,
            "grid_auto_rows": null,
            "grid_column": null,
            "grid_gap": null,
            "grid_row": null,
            "grid_template_areas": null,
            "grid_template_columns": null,
            "grid_template_rows": null,
            "height": null,
            "justify_content": null,
            "justify_items": null,
            "left": null,
            "margin": null,
            "max_height": null,
            "max_width": null,
            "min_height": null,
            "min_width": null,
            "object_fit": null,
            "object_position": null,
            "order": null,
            "overflow": null,
            "overflow_x": null,
            "overflow_y": null,
            "padding": null,
            "right": null,
            "top": null,
            "visibility": null,
            "width": null
          }
        },
        "51bbdba4e9e74d579fb067c47f68f359": {
          "model_module": "@jupyter-widgets/controls",
          "model_name": "ProgressStyleModel",
          "model_module_version": "1.5.0",
          "state": {
            "_model_module": "@jupyter-widgets/controls",
            "_model_module_version": "1.5.0",
            "_model_name": "ProgressStyleModel",
            "_view_count": null,
            "_view_module": "@jupyter-widgets/base",
            "_view_module_version": "1.2.0",
            "_view_name": "StyleView",
            "bar_color": null,
            "description_width": ""
          }
        },
        "5d10c0e6304d41498638c2c15b5aea00": {
          "model_module": "@jupyter-widgets/base",
          "model_name": "LayoutModel",
          "model_module_version": "1.2.0",
          "state": {
            "_model_module": "@jupyter-widgets/base",
            "_model_module_version": "1.2.0",
            "_model_name": "LayoutModel",
            "_view_count": null,
            "_view_module": "@jupyter-widgets/base",
            "_view_module_version": "1.2.0",
            "_view_name": "LayoutView",
            "align_content": null,
            "align_items": null,
            "align_self": null,
            "border": null,
            "bottom": null,
            "display": null,
            "flex": null,
            "flex_flow": null,
            "grid_area": null,
            "grid_auto_columns": null,
            "grid_auto_flow": null,
            "grid_auto_rows": null,
            "grid_column": null,
            "grid_gap": null,
            "grid_row": null,
            "grid_template_areas": null,
            "grid_template_columns": null,
            "grid_template_rows": null,
            "height": null,
            "justify_content": null,
            "justify_items": null,
            "left": null,
            "margin": null,
            "max_height": null,
            "max_width": null,
            "min_height": null,
            "min_width": null,
            "object_fit": null,
            "object_position": null,
            "order": null,
            "overflow": null,
            "overflow_x": null,
            "overflow_y": null,
            "padding": null,
            "right": null,
            "top": null,
            "visibility": null,
            "width": null
          }
        },
        "4c58d08cac244a36be346457dfe09bf2": {
          "model_module": "@jupyter-widgets/controls",
          "model_name": "DescriptionStyleModel",
          "model_module_version": "1.5.0",
          "state": {
            "_model_module": "@jupyter-widgets/controls",
            "_model_module_version": "1.5.0",
            "_model_name": "DescriptionStyleModel",
            "_view_count": null,
            "_view_module": "@jupyter-widgets/base",
            "_view_module_version": "1.2.0",
            "_view_name": "StyleView",
            "description_width": ""
          }
        },
        "51da4d6b58c946dab1f30099ab30d037": {
          "model_module": "@jupyter-widgets/controls",
          "model_name": "HBoxModel",
          "model_module_version": "1.5.0",
          "state": {
            "_dom_classes": [],
            "_model_module": "@jupyter-widgets/controls",
            "_model_module_version": "1.5.0",
            "_model_name": "HBoxModel",
            "_view_count": null,
            "_view_module": "@jupyter-widgets/controls",
            "_view_module_version": "1.5.0",
            "_view_name": "HBoxView",
            "box_style": "",
            "children": [
              "IPY_MODEL_e9aa66ccae9948a78730b40484cc4c4f",
              "IPY_MODEL_ff42a03ac2a444eea82af85d7cbc3552",
              "IPY_MODEL_d21c9533b83043ed9f3f6ceb6e684b1e"
            ],
            "layout": "IPY_MODEL_666ef304b8f44e86bc86a2c1b819ae0e"
          }
        },
        "e9aa66ccae9948a78730b40484cc4c4f": {
          "model_module": "@jupyter-widgets/controls",
          "model_name": "HTMLModel",
          "model_module_version": "1.5.0",
          "state": {
            "_dom_classes": [],
            "_model_module": "@jupyter-widgets/controls",
            "_model_module_version": "1.5.0",
            "_model_name": "HTMLModel",
            "_view_count": null,
            "_view_module": "@jupyter-widgets/controls",
            "_view_module_version": "1.5.0",
            "_view_name": "HTMLView",
            "description": "",
            "description_tooltip": null,
            "layout": "IPY_MODEL_37a42b02c99f4700b1050102e2776d7d",
            "placeholder": "​",
            "style": "IPY_MODEL_1395771a8d114ec5a09adfa93134480e",
            "value": "tokenizer.json: 100%"
          }
        },
        "ff42a03ac2a444eea82af85d7cbc3552": {
          "model_module": "@jupyter-widgets/controls",
          "model_name": "FloatProgressModel",
          "model_module_version": "1.5.0",
          "state": {
            "_dom_classes": [],
            "_model_module": "@jupyter-widgets/controls",
            "_model_module_version": "1.5.0",
            "_model_name": "FloatProgressModel",
            "_view_count": null,
            "_view_module": "@jupyter-widgets/controls",
            "_view_module_version": "1.5.0",
            "_view_name": "ProgressView",
            "bar_style": "success",
            "description": "",
            "description_tooltip": null,
            "layout": "IPY_MODEL_39ef3699fc6e4ff6a0eebab4fb23a62a",
            "max": 1355863,
            "min": 0,
            "orientation": "horizontal",
            "style": "IPY_MODEL_59ae8090242c4a159cca913d5f4c1439",
            "value": 1355863
          }
        },
        "d21c9533b83043ed9f3f6ceb6e684b1e": {
          "model_module": "@jupyter-widgets/controls",
          "model_name": "HTMLModel",
          "model_module_version": "1.5.0",
          "state": {
            "_dom_classes": [],
            "_model_module": "@jupyter-widgets/controls",
            "_model_module_version": "1.5.0",
            "_model_name": "HTMLModel",
            "_view_count": null,
            "_view_module": "@jupyter-widgets/controls",
            "_view_module_version": "1.5.0",
            "_view_name": "HTMLView",
            "description": "",
            "description_tooltip": null,
            "layout": "IPY_MODEL_53a62bb7c6ef43779bce2c60d7dc4dad",
            "placeholder": "​",
            "style": "IPY_MODEL_6a72320d4e9e4e9d828ae048238a9e99",
            "value": " 1.36M/1.36M [00:00&lt;00:00, 15.3MB/s]"
          }
        },
        "666ef304b8f44e86bc86a2c1b819ae0e": {
          "model_module": "@jupyter-widgets/base",
          "model_name": "LayoutModel",
          "model_module_version": "1.2.0",
          "state": {
            "_model_module": "@jupyter-widgets/base",
            "_model_module_version": "1.2.0",
            "_model_name": "LayoutModel",
            "_view_count": null,
            "_view_module": "@jupyter-widgets/base",
            "_view_module_version": "1.2.0",
            "_view_name": "LayoutView",
            "align_content": null,
            "align_items": null,
            "align_self": null,
            "border": null,
            "bottom": null,
            "display": null,
            "flex": null,
            "flex_flow": null,
            "grid_area": null,
            "grid_auto_columns": null,
            "grid_auto_flow": null,
            "grid_auto_rows": null,
            "grid_column": null,
            "grid_gap": null,
            "grid_row": null,
            "grid_template_areas": null,
            "grid_template_columns": null,
            "grid_template_rows": null,
            "height": null,
            "justify_content": null,
            "justify_items": null,
            "left": null,
            "margin": null,
            "max_height": null,
            "max_width": null,
            "min_height": null,
            "min_width": null,
            "object_fit": null,
            "object_position": null,
            "order": null,
            "overflow": null,
            "overflow_x": null,
            "overflow_y": null,
            "padding": null,
            "right": null,
            "top": null,
            "visibility": null,
            "width": null
          }
        },
        "37a42b02c99f4700b1050102e2776d7d": {
          "model_module": "@jupyter-widgets/base",
          "model_name": "LayoutModel",
          "model_module_version": "1.2.0",
          "state": {
            "_model_module": "@jupyter-widgets/base",
            "_model_module_version": "1.2.0",
            "_model_name": "LayoutModel",
            "_view_count": null,
            "_view_module": "@jupyter-widgets/base",
            "_view_module_version": "1.2.0",
            "_view_name": "LayoutView",
            "align_content": null,
            "align_items": null,
            "align_self": null,
            "border": null,
            "bottom": null,
            "display": null,
            "flex": null,
            "flex_flow": null,
            "grid_area": null,
            "grid_auto_columns": null,
            "grid_auto_flow": null,
            "grid_auto_rows": null,
            "grid_column": null,
            "grid_gap": null,
            "grid_row": null,
            "grid_template_areas": null,
            "grid_template_columns": null,
            "grid_template_rows": null,
            "height": null,
            "justify_content": null,
            "justify_items": null,
            "left": null,
            "margin": null,
            "max_height": null,
            "max_width": null,
            "min_height": null,
            "min_width": null,
            "object_fit": null,
            "object_position": null,
            "order": null,
            "overflow": null,
            "overflow_x": null,
            "overflow_y": null,
            "padding": null,
            "right": null,
            "top": null,
            "visibility": null,
            "width": null
          }
        },
        "1395771a8d114ec5a09adfa93134480e": {
          "model_module": "@jupyter-widgets/controls",
          "model_name": "DescriptionStyleModel",
          "model_module_version": "1.5.0",
          "state": {
            "_model_module": "@jupyter-widgets/controls",
            "_model_module_version": "1.5.0",
            "_model_name": "DescriptionStyleModel",
            "_view_count": null,
            "_view_module": "@jupyter-widgets/base",
            "_view_module_version": "1.2.0",
            "_view_name": "StyleView",
            "description_width": ""
          }
        },
        "39ef3699fc6e4ff6a0eebab4fb23a62a": {
          "model_module": "@jupyter-widgets/base",
          "model_name": "LayoutModel",
          "model_module_version": "1.2.0",
          "state": {
            "_model_module": "@jupyter-widgets/base",
            "_model_module_version": "1.2.0",
            "_model_name": "LayoutModel",
            "_view_count": null,
            "_view_module": "@jupyter-widgets/base",
            "_view_module_version": "1.2.0",
            "_view_name": "LayoutView",
            "align_content": null,
            "align_items": null,
            "align_self": null,
            "border": null,
            "bottom": null,
            "display": null,
            "flex": null,
            "flex_flow": null,
            "grid_area": null,
            "grid_auto_columns": null,
            "grid_auto_flow": null,
            "grid_auto_rows": null,
            "grid_column": null,
            "grid_gap": null,
            "grid_row": null,
            "grid_template_areas": null,
            "grid_template_columns": null,
            "grid_template_rows": null,
            "height": null,
            "justify_content": null,
            "justify_items": null,
            "left": null,
            "margin": null,
            "max_height": null,
            "max_width": null,
            "min_height": null,
            "min_width": null,
            "object_fit": null,
            "object_position": null,
            "order": null,
            "overflow": null,
            "overflow_x": null,
            "overflow_y": null,
            "padding": null,
            "right": null,
            "top": null,
            "visibility": null,
            "width": null
          }
        },
        "59ae8090242c4a159cca913d5f4c1439": {
          "model_module": "@jupyter-widgets/controls",
          "model_name": "ProgressStyleModel",
          "model_module_version": "1.5.0",
          "state": {
            "_model_module": "@jupyter-widgets/controls",
            "_model_module_version": "1.5.0",
            "_model_name": "ProgressStyleModel",
            "_view_count": null,
            "_view_module": "@jupyter-widgets/base",
            "_view_module_version": "1.2.0",
            "_view_name": "StyleView",
            "bar_color": null,
            "description_width": ""
          }
        },
        "53a62bb7c6ef43779bce2c60d7dc4dad": {
          "model_module": "@jupyter-widgets/base",
          "model_name": "LayoutModel",
          "model_module_version": "1.2.0",
          "state": {
            "_model_module": "@jupyter-widgets/base",
            "_model_module_version": "1.2.0",
            "_model_name": "LayoutModel",
            "_view_count": null,
            "_view_module": "@jupyter-widgets/base",
            "_view_module_version": "1.2.0",
            "_view_name": "LayoutView",
            "align_content": null,
            "align_items": null,
            "align_self": null,
            "border": null,
            "bottom": null,
            "display": null,
            "flex": null,
            "flex_flow": null,
            "grid_area": null,
            "grid_auto_columns": null,
            "grid_auto_flow": null,
            "grid_auto_rows": null,
            "grid_column": null,
            "grid_gap": null,
            "grid_row": null,
            "grid_template_areas": null,
            "grid_template_columns": null,
            "grid_template_rows": null,
            "height": null,
            "justify_content": null,
            "justify_items": null,
            "left": null,
            "margin": null,
            "max_height": null,
            "max_width": null,
            "min_height": null,
            "min_width": null,
            "object_fit": null,
            "object_position": null,
            "order": null,
            "overflow": null,
            "overflow_x": null,
            "overflow_y": null,
            "padding": null,
            "right": null,
            "top": null,
            "visibility": null,
            "width": null
          }
        },
        "6a72320d4e9e4e9d828ae048238a9e99": {
          "model_module": "@jupyter-widgets/controls",
          "model_name": "DescriptionStyleModel",
          "model_module_version": "1.5.0",
          "state": {
            "_model_module": "@jupyter-widgets/controls",
            "_model_module_version": "1.5.0",
            "_model_name": "DescriptionStyleModel",
            "_view_count": null,
            "_view_module": "@jupyter-widgets/base",
            "_view_module_version": "1.2.0",
            "_view_name": "StyleView",
            "description_width": ""
          }
        }
      }
    }
  },
  "nbformat": 4,
  "nbformat_minor": 0
}
